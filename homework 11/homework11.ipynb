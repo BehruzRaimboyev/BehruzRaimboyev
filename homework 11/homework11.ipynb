{
 "cells": [
  {
   "cell_type": "code",
   "execution_count": 40,
   "metadata": {},
   "outputs": [],
   "source": [
    "from pyspark.sql import SparkSession"
   ]
  },
  {
   "cell_type": "code",
   "execution_count": 56,
   "metadata": {},
   "outputs": [],
   "source": [
    "spark = SparkSession.builder.appName('Practise').getOrCreate()"
   ]
  },
  {
   "cell_type": "code",
   "execution_count": 79,
   "metadata": {},
   "outputs": [],
   "source": [
    "from pyspark.sql.functions import col,sum,avg,when"
   ]
  },
  {
   "cell_type": "code",
   "execution_count": 72,
   "metadata": {},
   "outputs": [
    {
     "name": "stdout",
     "output_type": "stream",
     "text": [
      "+----------+------------+-----------+-----------+-------------+---------+--------------+--------------------+--------------+-------------------+----------------+-----------+--------+-------+\n",
      "|ProductKey|OrderDateKey|CustomerKey|CurrencyKey|OrderQuantity|UnitPrice|ExtendedAmount|UnitPriceDiscountPct|DiscountAmount|ProductStandardCost|TotalProductCost|SalesAmount|  TaxAmt|Freight|\n",
      "+----------+------------+-----------+-----------+-------------+---------+--------------+--------------------+--------------+-------------------+----------------+-----------+--------+-------+\n",
      "|       310|    20101229|      21768|         19|            1|  3578.27|       3578.27|                 0.0|           0.0|          2171.2942|       2171.2942|    3578.27|286.2616|89.4568|\n",
      "|       346|    20101229|      28389|         39|            1|  3399.99|       3399.99|                 0.0|           0.0|          1912.1544|       1912.1544|    3399.99|271.9992|84.9998|\n",
      "+----------+------------+-----------+-----------+-------------+---------+--------------+--------------------+--------------+-------------------+----------------+-----------+--------+-------+\n",
      "only showing top 2 rows\n",
      "\n"
     ]
    }
   ],
   "source": [
    "fis=spark.read.csv('fact_internet_sales.csv',header=True,inferSchema=True)\n",
    "fis.show(2)"
   ]
  },
  {
   "cell_type": "code",
   "execution_count": 59,
   "metadata": {},
   "outputs": [
    {
     "name": "stdout",
     "output_type": "stream",
     "text": [
      "+-----------+--------------------+--------------+\n",
      "|CurrencyKey|CurrencyAlternateKey|  CurrencyName|\n",
      "+-----------+--------------------+--------------+\n",
      "|          1|                 AFA|       Afghani|\n",
      "|          2|                 DZD|Algerian Dinar|\n",
      "+-----------+--------------------+--------------+\n",
      "only showing top 2 rows\n",
      "\n"
     ]
    }
   ],
   "source": [
    "currency=spark.read.csv('dim_currency.csv',header=True,inferSchema=True)\n",
    "currency.show(2)"
   ]
  },
  {
   "cell_type": "code",
   "execution_count": 60,
   "metadata": {},
   "outputs": [
    {
     "name": "stdout",
     "output_type": "stream",
     "text": [
      "+-----------+---------+----------+--------+---------+----------+-------------+------+------+--------------------+------------+-------------+---------------+------------+-------------------+\n",
      "|CustomerKey|FirstName|MiddleName|LastName|NameStyle| BirthDate|MaritalStatus|Suffix|Gender|        EmailAddress|YearlyIncome|TotalChildren|   AddressLine1|AddressLine2|              Phone|\n",
      "+-----------+---------+----------+--------+---------+----------+-------------+------+------+--------------------+------------+-------------+---------------+------------+-------------------+\n",
      "|      11000|      Jon|         V|    Yang|    false|1971-10-06|            M|  NULL|     M|jon24@adventure-w...|     90000.0|            2|3761 N. 14th St|        NULL|1 (11) 500 555-0162|\n",
      "|      11001|   Eugene|         L|   Huang|    false|1976-05-10|            S|  NULL|     M|eugene10@adventur...|     60000.0|            3|     2243 W St.|        NULL|1 (11) 500 555-0110|\n",
      "+-----------+---------+----------+--------+---------+----------+-------------+------+------+--------------------+------------+-------------+---------------+------------+-------------------+\n",
      "only showing top 2 rows\n",
      "\n"
     ]
    }
   ],
   "source": [
    "customer=spark.read.csv('dim_customer.csv',header=True,inferSchema=True)\n",
    "customer.show(2)"
   ]
  },
  {
   "cell_type": "code",
   "execution_count": 61,
   "metadata": {},
   "outputs": [
    {
     "name": "stdout",
     "output_type": "stream",
     "text": [
      "+--------+--------------------+---------------+--------------------+--------------------+----------------+---------------+----------------+----------------+----------------+-----------------+---------------+------------+----------------+-------------+----------+--------------+\n",
      "| DateKey|FullDateAlternateKey|DayNumberOfWeek|EnglishDayNameOfWeek|SpanishDayNameOfWeek|DayNumberOfMonth|DayNumberOfYear|WeekNumberOfYear|EnglishMonthName|SpanishMonthName|MonthNumberOfYear|CalendarQuarter|CalendarYear|CalendarSemester|FiscalQuarter|FiscalYear|FiscalSemester|\n",
      "+--------+--------------------+---------------+--------------------+--------------------+----------------+---------------+----------------+----------------+----------------+-----------------+---------------+------------+----------------+-------------+----------+--------------+\n",
      "|20050101|          2005-01-01|              7|            Saturday|              Sábado|               1|              1|               1|         January|           Enero|                1|              1|        2005|               1|            3|      2005|             2|\n",
      "|20050102|          2005-01-02|              1|              Sunday|             Domingo|               2|              2|               2|         January|           Enero|                1|              1|        2005|               1|            3|      2005|             2|\n",
      "+--------+--------------------+---------------+--------------------+--------------------+----------------+---------------+----------------+----------------+----------------+-----------------+---------------+------------+----------------+-------------+----------+--------------+\n",
      "only showing top 2 rows\n",
      "\n"
     ]
    }
   ],
   "source": [
    "date=spark.read.csv('dim_date.csv',header=True,inferSchema=True)\n",
    "date.show(2)"
   ]
  },
  {
   "cell_type": "code",
   "execution_count": 70,
   "metadata": {},
   "outputs": [
    {
     "name": "stdout",
     "output_type": "stream",
     "text": [
      "+----------+-------------------+--------------------+------------------+------+---------+----+------+-----------------+-------+\n",
      "|ProductKey|ProductAlternateKey|  EnglishProductName|SpanishProductName| Color|ListPrice|Size|Weight|DaysToManufacture| Status|\n",
      "+----------+-------------------+--------------------+------------------+------+---------+----+------+-----------------+-------+\n",
      "|         1|            AR-5381|     Adjustable Race|              NULL|    NA|     NULL|NULL|  NULL|                0|Current|\n",
      "|         2|            BA-8327|        Bearing Ball|              NULL|    NA|     NULL|NULL|  NULL|                0|Current|\n",
      "|         3|            BE-2349|     BB Ball Bearing|              NULL|    NA|     NULL|NULL|  NULL|                1|Current|\n",
      "|         4|            BE-2908|Headset Ball Bear...|              NULL|    NA|     NULL|NULL|  NULL|                0|Current|\n",
      "|         5|            BL-2036|               Blade|              NULL|    NA|     NULL|NULL|  NULL|                1|Current|\n",
      "|         6|            CA-5965|         LL Crankarm|              NULL| Black|     NULL|NULL|  NULL|                0|Current|\n",
      "|         7|            CA-6738|         ML Crankarm|              NULL| Black|     NULL|NULL|  NULL|                0|Current|\n",
      "|         8|            CA-7457|         HL Crankarm|              NULL| Black|     NULL|NULL|  NULL|                0|Current|\n",
      "|         9|            CB-2903|     Chainring Bolts|              NULL|Silver|     NULL|NULL|  NULL|                0|Current|\n",
      "|        10|            CN-6137|       Chainring Nut|              NULL|Silver|     NULL|NULL|  NULL|                0|Current|\n",
      "|        11|            CR-7833|           Chainring|              NULL| Black|     NULL|NULL|  NULL|                0|Current|\n",
      "|        12|            CR-9981|          Crown Race|              NULL|    NA|     NULL|NULL|  NULL|                0|Current|\n",
      "|        13|            CS-2812|         Chain Stays|              NULL|    NA|     NULL|NULL|  NULL|                1|Current|\n",
      "|        14|            DC-8732|             Decal 1|              NULL|    NA|     NULL|NULL|  NULL|                0|Current|\n",
      "|        15|            DC-9824|             Decal 2|              NULL|    NA|     NULL|NULL|  NULL|                0|Current|\n",
      "|        16|            DT-2377|           Down Tube|              NULL|    NA|     NULL|NULL|  NULL|                1|Current|\n",
      "|        17|            EC-M092|   Mountain End Caps|              NULL|    NA|     NULL|NULL|  NULL|                1|Current|\n",
      "|        18|            EC-R098|       Road End Caps|              NULL|    NA|     NULL|NULL|  NULL|                1|Current|\n",
      "|        19|            EC-T209|    Touring End Caps|              NULL|    NA|     NULL|NULL|  NULL|                1|Current|\n",
      "|        20|            FE-3760|            Fork End|              NULL|    NA|     NULL|NULL|  NULL|                1|Current|\n",
      "+----------+-------------------+--------------------+------------------+------+---------+----+------+-----------------+-------+\n",
      "only showing top 20 rows\n",
      "\n"
     ]
    }
   ],
   "source": [
    "product=spark.read.csv('dim_product.csv',header=True,inferSchema=True)\n",
    "product.show()"
   ]
  },
  {
   "cell_type": "code",
   "execution_count": 101,
   "metadata": {},
   "outputs": [
    {
     "name": "stdout",
     "output_type": "stream",
     "text": [
      "+-------------+---------+--------------+--------------------+--------------+-------------------+----------------+-----------+--------+-------+--------+--------------------+----------------+------------+----------+--------------+-------------------+--------------------+------+---------+----+------+-----------------+------+---------+---------+----------+------+--------------------+------------+-------------+----------------+-------------------+\n",
      "|OrderQuantity|UnitPrice|ExtendedAmount|UnitPriceDiscountPct|DiscountAmount|ProductStandardCost|TotalProductCost|SalesAmount|  TaxAmt|Freight| DateKey|FullDateAlternateKey|EnglishMonthName|CalendarYear|FiscalYear|FiscalSemester|ProductAlternateKey|  EnglishProductName| Color|ListPrice|Size|Weight|DaysToManufacture|Status|FirstName| LastName| BirthDate|Gender|        EmailAddress|YearlyIncome|TotalChildren|    AddressLine1|              Phone|\n",
      "+-------------+---------+--------------+--------------------+--------------+-------------------+----------------+-----------+--------+-------+--------+--------------------+----------------+------------+----------+--------------+-------------------+--------------------+------+---------+----+------+-----------------+------+---------+---------+----------+------+--------------------+------------+-------------+----------------+-------------------+\n",
      "|            1|  3399.99|       3399.99|                 0.0|           0.0|          1912.1544|       1912.1544|    3399.99|271.9992|84.9998|20110227|          2011-02-27|        February|        2011|      2010|             2|         BK-M82S-38|Mountain-100 Silv...|Silver|  3399.99|  38| 20.35|                4|  NULL|     Anne|Hernandez|1964-06-09|     F|anne4@adventure-w...|    160000.0|            2|76 Woodcrest Dr.|1 (11) 500 555-0119|\n",
      "|            1|  3399.99|       3399.99|                 0.0|           0.0|          1912.1544|       1912.1544|    3399.99|271.9992|84.9998|20110717|          2011-07-17|            July|        2011|      2011|             1|         BK-M82S-48|Mountain-100 Silv...|Silver|  3399.99|  48| 21.42|                4|  NULL|      Jon|      Gao|1980-01-05|     M|jon35@adventure-w...|    120000.0|            5|6455 Garnet Lane|1 (11) 500 555-0136|\n",
      "+-------------+---------+--------------+--------------------+--------------+-------------------+----------------+-----------+--------+-------+--------+--------------------+----------------+------------+----------+--------------+-------------------+--------------------+------+---------+----+------+-----------------+------+---------+---------+----------+------+--------------------+------------+-------------+----------------+-------------------+\n",
      "only showing top 2 rows\n",
      "\n"
     ]
    }
   ],
   "source": [
    "full=(\n",
    "fis\n",
    ".join(date,fis.OrderDateKey==date.DateKey)\n",
    ".filter(date.EnglishDayNameOfWeek=='Sunday')\n",
    ".join(product,on='ProductKey',how='inner') \n",
    ".filter((product.Color=='Silver')&(product.Size.isNotNull())&(fis.Freight>10))\n",
    ".join(customer,on='CustomerKey')\n",
    ".filter((customer.YearlyIncome>100000)&(customer.TotalChildren > 1))\n",
    ".drop('CustomerKey','OrderDateKey','ProductKey','CurrencyKey','AddressLine2','Suffix','MaritalStatus','NameStyle','MiddleName','SpanishProductName','FiscalQuarter','CalendarSemester','CalendarQuarter','SpanishMonthName','MonthNumberOfYear','WeekNumberOfYear','DayNumberOfYear','DayNumberOfMonth','SpanishDayNameOfWeek','EnglishDayNameOfWeek','DayNumberOfWeek')\n",
    ")\n",
    "full.show(2)\n",
    "\n"
   ]
  },
  {
   "cell_type": "code",
   "execution_count": 98,
   "metadata": {},
   "outputs": [
    {
     "name": "stdout",
     "output_type": "stream",
     "text": [
      "+---------+------------------+--------------+-------------------+\n",
      "|FirstName|       TotalTaxAmt|AvgSalesAmount|AvgTotalProductCost|\n",
      "+---------+------------------+--------------+-------------------+\n",
      "|   Albert|          185.5992|       2319.99|          1265.6195|\n",
      "|   Alexis|457.59839999999997|       2859.99|         1588.88695|\n",
      "+---------+------------------+--------------+-------------------+\n",
      "only showing top 2 rows\n",
      "\n"
     ]
    }
   ],
   "source": [
    "(\n",
    "full\n",
    ".groupBy(customer.FirstName)\n",
    ".agg(sum(fis.TaxAmt).alias('TotalTaxAmt'),avg(fis.SalesAmount).alias('AvgSalesAmount'),avg(fis.TotalProductCost).alias('AvgTotalProductCost'))\n",
    ".orderBy(col('FirstName').asc())\n",
    ".show(2)\n",
    ")"
   ]
  }
 ],
 "metadata": {
  "kernelspec": {
   "display_name": "Python 3",
   "language": "python",
   "name": "python3"
  },
  "language_info": {
   "codemirror_mode": {
    "name": "ipython",
    "version": 3
   },
   "file_extension": ".py",
   "mimetype": "text/x-python",
   "name": "python",
   "nbconvert_exporter": "python",
   "pygments_lexer": "ipython3",
   "version": "3.10.9"
  }
 },
 "nbformat": 4,
 "nbformat_minor": 2
}
