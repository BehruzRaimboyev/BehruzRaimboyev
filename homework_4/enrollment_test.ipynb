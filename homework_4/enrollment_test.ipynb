{
 "cells": [
  {
   "cell_type": "code",
   "execution_count": 4,
   "metadata": {},
   "outputs": [
    {
     "name": "stdout",
     "output_type": "stream",
     "text": [
      "Total students: 73703\n",
      "Total tuition: $271905\n",
      "\n",
      "Student mean: 10529.00\n",
      "Student median: 10566\n",
      "\n",
      "Tuition mean: $38843.57\n",
      "Tuition median: $39849.00\n"
     ]
    }
   ],
   "source": [
    "def enrollment_stats(universities):\n",
    "    enrollments = [univ[1] for univ in universities]\n",
    "    tuition_fees = [univ[2] for univ in universities]\n",
    "    return enrollments, tuition_fees\n",
    "\n",
    "def mean(values):\n",
    "    if not values:\n",
    "        return 0\n",
    "    return sum(values) / len(values)\n",
    "\n",
    "def median(values):\n",
    "    if not values:\n",
    "        return 0\n",
    "    sortedd = sorted(values)\n",
    "    n = len(sortedd)\n",
    "    mid = n // 2\n",
    "    if n % 2 == 0:\n",
    "        return (sortedd[mid - 1] + sortedd[mid]) / 2\n",
    "    else:\n",
    "        return sortedd[mid]\n",
    "\n",
    "universities = [\n",
    "    ['California Institute of Technology', 2175, 37704],\n",
    "    ['Harvard', 19627, 39849],\n",
    "    ['Massachusetts Institute of Technology', 10566, 40732],\n",
    "    ['Princeton', 7802, 37000],\n",
    "    ['Rice', 5879, 35551],\n",
    "    ['Stanford', 15953, 40569],\n",
    "    ['Yale', 11701, 40500]\n",
    "]\n",
    "\n",
    "enrollment_values, tuition_values = enrollment_stats(universities)\n",
    "\n",
    "total_students = sum(enrollment_values)\n",
    "total_tuition = sum(tuition_values)\n",
    "mean_students = mean(enrollment_values)\n",
    "mean_tuition = mean(tuition_values)\n",
    "median_students = median(enrollment_values)\n",
    "median_tuition = median(tuition_values)\n",
    "\n",
    "\n",
    "output = f\"\"\"Total students: {total_students}\n",
    "Total tuition: ${total_tuition}\n",
    "\n",
    "Student mean: {mean_students:.2f}\n",
    "Student median: {median_students}\n",
    "\n",
    "Tuition mean: ${mean_tuition:.2f}\n",
    "Tuition median: ${median_tuition:.2f}\"\"\"\n",
    "\n",
    "\n",
    "print(output)\n",
    " \n"
   ]
  }
 ],
 "metadata": {
  "kernelspec": {
   "display_name": "Python 3",
   "language": "python",
   "name": "python3"
  },
  "language_info": {
   "codemirror_mode": {
    "name": "ipython",
    "version": 3
   },
   "file_extension": ".py",
   "mimetype": "text/x-python",
   "name": "python",
   "nbconvert_exporter": "python",
   "pygments_lexer": "ipython3",
   "version": "3.10.9"
  }
 },
 "nbformat": 4,
 "nbformat_minor": 2
}
