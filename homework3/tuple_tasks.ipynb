{
 "cells": [
  {
   "cell_type": "markdown",
   "metadata": {},
   "source": [
    "# Tuple Tasks"
   ]
  },
  {
   "cell_type": "markdown",
   "metadata": {},
   "source": [
    "# exercise 1"
   ]
  },
  {
   "cell_type": "code",
   "execution_count": 4,
   "metadata": {},
   "outputs": [
    {
     "name": "stdout",
     "output_type": "stream",
     "text": [
      "the element 2 apears 3 times in the tuple.\n"
     ]
    }
   ],
   "source": [
    "a=(1,2,3,2,2,4,5)\n",
    "b=2\n",
    "count=a.count(b)\n",
    "print(f'the element {b} apears {count} times in the tuple.')"
   ]
  },
  {
   "cell_type": "markdown",
   "metadata": {},
   "source": [
    "# exercise 2"
   ]
  },
  {
   "cell_type": "code",
   "execution_count": 5,
   "metadata": {},
   "outputs": [
    {
     "name": "stdout",
     "output_type": "stream",
     "text": [
      "max element in this tuple:56\n"
     ]
    }
   ],
   "source": [
    "a=(12,43,54,56)\n",
    "b=max(a)\n",
    "print(f'max element in this tuple:{b}')"
   ]
  },
  {
   "cell_type": "markdown",
   "metadata": {},
   "source": [
    "# exercise 3"
   ]
  },
  {
   "cell_type": "code",
   "execution_count": 6,
   "metadata": {},
   "outputs": [
    {
     "name": "stdout",
     "output_type": "stream",
     "text": [
      "minimum element in this tuple:12\n"
     ]
    }
   ],
   "source": [
    "a=(12,43,54,56)\n",
    "b=min(a)\n",
    "print(f'minimum element in this tuple:{b}')"
   ]
  },
  {
   "cell_type": "markdown",
   "metadata": {},
   "source": [
    "# exercise 4"
   ]
  },
  {
   "cell_type": "code",
   "execution_count": 7,
   "metadata": {},
   "outputs": [
    {
     "name": "stdout",
     "output_type": "stream",
     "text": [
      "this element has in tuple.\n"
     ]
    }
   ],
   "source": [
    "a=(12,43,54,56)\n",
    "b=(43)\n",
    "if b in a :\n",
    "    print('this element has in tuple.')\n",
    "else :\n",
    "    print(\"Error: this element doesn't exists.\") \n"
   ]
  },
  {
   "cell_type": "markdown",
   "metadata": {},
   "source": [
    "# exercise 5"
   ]
  },
  {
   "cell_type": "code",
   "execution_count": 8,
   "metadata": {},
   "outputs": [
    {
     "name": "stdout",
     "output_type": "stream",
     "text": [
      "12\n"
     ]
    }
   ],
   "source": [
    "a=(12,43,54,56)\n",
    "print(a[0])"
   ]
  },
  {
   "cell_type": "markdown",
   "metadata": {},
   "source": [
    "# exercise 6"
   ]
  },
  {
   "cell_type": "code",
   "execution_count": 9,
   "metadata": {},
   "outputs": [
    {
     "name": "stdout",
     "output_type": "stream",
     "text": [
      "56\n"
     ]
    }
   ],
   "source": [
    "a=(12,43,54,56)\n",
    "print(a[-1])"
   ]
  },
  {
   "cell_type": "markdown",
   "metadata": {},
   "source": [
    "# exercise 7"
   ]
  },
  {
   "cell_type": "code",
   "execution_count": 10,
   "metadata": {},
   "outputs": [
    {
     "name": "stdout",
     "output_type": "stream",
     "text": [
      "the number of elements in this tuple:4\n"
     ]
    }
   ],
   "source": [
    "a=(12,43,54,56)\n",
    "number=len(a)\n",
    "print(f'the number of elements in this tuple:{number}')"
   ]
  },
  {
   "cell_type": "markdown",
   "metadata": {},
   "source": [
    "# exercise 8"
   ]
  },
  {
   "cell_type": "code",
   "execution_count": 13,
   "metadata": {},
   "outputs": [
    {
     "name": "stdout",
     "output_type": "stream",
     "text": [
      "(56, 34, 67)\n"
     ]
    }
   ],
   "source": [
    "a=(56,34,67,98,72)\n",
    "print(a[0:3])"
   ]
  },
  {
   "cell_type": "markdown",
   "metadata": {},
   "source": [
    "# exercise 9"
   ]
  },
  {
   "cell_type": "code",
   "execution_count": 14,
   "metadata": {},
   "outputs": [
    {
     "name": "stdout",
     "output_type": "stream",
     "text": [
      "(2, 0, 8, 3, 4, 5)\n"
     ]
    }
   ],
   "source": [
    "a=(2,0,8)\n",
    "b=(3,4,5)\n",
    "c=a+b\n",
    "print(c)"
   ]
  },
  {
   "cell_type": "markdown",
   "metadata": {},
   "source": [
    "# exercise 10"
   ]
  },
  {
   "cell_type": "code",
   "execution_count": 16,
   "metadata": {},
   "outputs": [
    {
     "name": "stdout",
     "output_type": "stream",
     "text": [
      "tuple has elements.\n"
     ]
    }
   ],
   "source": [
    "a=(1,2,3)\n",
    "if a :\n",
    "    print('tuple has elements.')\n",
    "else:\n",
    "    print('tuple is empty.')\n"
   ]
  },
  {
   "cell_type": "markdown",
   "metadata": {},
   "source": [
    "# exercise 11"
   ]
  },
  {
   "cell_type": "code",
   "execution_count": 19,
   "metadata": {},
   "outputs": [
    {
     "name": "stdout",
     "output_type": "stream",
     "text": [
      "the indices of element2 in the tuple are:[1, 3, 5]\n"
     ]
    }
   ],
   "source": [
    "a=(1,2,3,2,4,2,5)\n",
    "element=2\n",
    "indices=[index for index,value in enumerate(a) if value==element]\n",
    "print(f'the indices of element{element} in the tuple are:{indices}')\n"
   ]
  },
  {
   "cell_type": "markdown",
   "metadata": {},
   "source": [
    "# exercise 12"
   ]
  },
  {
   "cell_type": "code",
   "execution_count": 22,
   "metadata": {},
   "outputs": [
    {
     "name": "stdout",
     "output_type": "stream",
     "text": [
      "the second largest element is 5.\n"
     ]
    }
   ],
   "source": [
    "a=(1,2,3,4,5,6)\n",
    "b=sorted(set(a))\n",
    "if len(b)>=2:\n",
    "    second=b[-2]\n",
    "    print(f'the second largest element is {second}.')\n",
    "else:\n",
    "    print('there is no second largest element.')"
   ]
  },
  {
   "cell_type": "markdown",
   "metadata": {},
   "source": [
    "# exercise 13"
   ]
  },
  {
   "cell_type": "code",
   "execution_count": 24,
   "metadata": {},
   "outputs": [
    {
     "name": "stdout",
     "output_type": "stream",
     "text": [
      "the second smallest element is 2.\n"
     ]
    }
   ],
   "source": [
    "a=(1,2,3,4,5,6)\n",
    "b=sorted(set(a))\n",
    "if len(b)>=2:\n",
    "    second=b[1]\n",
    "    print(f'the second smallest element is {second}.')\n",
    "else:\n",
    "    print('there is no second smallest element.')"
   ]
  },
  {
   "cell_type": "markdown",
   "metadata": {},
   "source": [
    "# exercise 14"
   ]
  },
  {
   "cell_type": "code",
   "execution_count": 25,
   "metadata": {},
   "outputs": [
    {
     "name": "stdout",
     "output_type": "stream",
     "text": [
      "the tuple containing the single element is:(42,)\n"
     ]
    }
   ],
   "source": [
    "element=42\n",
    "bb=(element,)\n",
    "print(f'the tuple containing the single element is:{bb}')\n"
   ]
  },
  {
   "cell_type": "markdown",
   "metadata": {},
   "source": [
    "# exercise 15"
   ]
  },
  {
   "cell_type": "code",
   "execution_count": 26,
   "metadata": {},
   "outputs": [
    {
     "name": "stdout",
     "output_type": "stream",
     "text": [
      "the tuple containsing the same elements is:[1, 2, 3, 4, 5]\n"
     ]
    }
   ],
   "source": [
    "a=[1,2,3,4,5]\n",
    "b=tuple(a)\n",
    "print(f'the tuple containsing the same elements is:{a}')"
   ]
  },
  {
   "cell_type": "markdown",
   "metadata": {},
   "source": [
    "# exercise 16"
   ]
  },
  {
   "cell_type": "code",
   "execution_count": 27,
   "metadata": {},
   "outputs": [
    {
     "name": "stdout",
     "output_type": "stream",
     "text": [
      "tuple 1 is sorted:True\n",
      "Tuple 2 is sorted :False\n"
     ]
    }
   ],
   "source": [
    "a=(1,2,3,4,5,6)\n",
    "b=(5,4,7,3)\n",
    "sorted1=a==tuple(sorted(a))\n",
    "sorted2=b==tuple(sorted(b))\n",
    "print(f'tuple 1 is sorted:{sorted1}')\n",
    "print(f'Tuple 2 is sorted :{sorted2}')"
   ]
  },
  {
   "cell_type": "markdown",
   "metadata": {},
   "source": [
    "# exercise 17"
   ]
  },
  {
   "cell_type": "code",
   "execution_count": 28,
   "metadata": {},
   "outputs": [
    {
     "name": "stdout",
     "output_type": "stream",
     "text": [
      "the maximum element in tge subtuple (20, 30, 40) is:40\n"
     ]
    }
   ],
   "source": [
    "a=(10,20,30,40,50)\n",
    "start=1\n",
    "end=4\n",
    "subtuple=a[start:end]\n",
    "max=max(subtuple)\n",
    "print(f'the maximum element in tge subtuple {subtuple} is:{max}')"
   ]
  },
  {
   "cell_type": "markdown",
   "metadata": {},
   "source": [
    "# exercise 18"
   ]
  },
  {
   "cell_type": "code",
   "execution_count": 29,
   "metadata": {},
   "outputs": [
    {
     "name": "stdout",
     "output_type": "stream",
     "text": [
      "the maximum element in tge subtuple (20, 30, 40) is:20\n"
     ]
    }
   ],
   "source": [
    "a=(10,20,30,40,50)\n",
    "start=1\n",
    "end=4\n",
    "subtuple=a[start:end]\n",
    "min=min(subtuple)\n",
    "print(f'the maximum element in tge subtuple {subtuple} is:{min}')\n"
   ]
  },
  {
   "cell_type": "markdown",
   "metadata": {},
   "source": [
    "# exercise 19"
   ]
  },
  {
   "cell_type": "code",
   "execution_count": 43,
   "metadata": {},
   "outputs": [
    {
     "ename": "TypeError",
     "evalue": "'list' object is not callable",
     "output_type": "error",
     "traceback": [
      "\u001b[1;31m---------------------------------------------------------------------------\u001b[0m",
      "\u001b[1;31mTypeError\u001b[0m                                 Traceback (most recent call last)",
      "Cell \u001b[1;32mIn[43], line 5\u001b[0m\n\u001b[0;32m      1\u001b[0m my_tuple \u001b[38;5;241m=\u001b[39m (\u001b[38;5;241m1\u001b[39m, \u001b[38;5;241m2\u001b[39m, \u001b[38;5;241m3\u001b[39m, \u001b[38;5;241m4\u001b[39m, \u001b[38;5;241m2\u001b[39m, \u001b[38;5;241m5\u001b[39m)\n\u001b[0;32m      3\u001b[0m element_to_remove \u001b[38;5;241m=\u001b[39m \u001b[38;5;241m2\u001b[39m\n\u001b[1;32m----> 5\u001b[0m temp_list \u001b[38;5;241m=\u001b[39m \u001b[38;5;28;43mlist\u001b[39;49m\u001b[43m(\u001b[49m\u001b[43mmy_tuple\u001b[49m\u001b[43m)\u001b[49m\n\u001b[0;32m      7\u001b[0m \u001b[38;5;28;01mif\u001b[39;00m element_to_remove \u001b[38;5;129;01min\u001b[39;00m temp_list:\n\u001b[0;32m      8\u001b[0m     temp_list\u001b[38;5;241m.\u001b[39mremove(element_to_remove)\n",
      "\u001b[1;31mTypeError\u001b[0m: 'list' object is not callable"
     ]
    }
   ],
   "source": [
    "my_tuple = (1, 2, 3, 4, 2, 5)\n",
    "\n",
    "element_to_remove = 2\n",
    "\n",
    "temp_list = list(my_tuple)\n",
    "\n",
    "if element_to_remove in temp_list:\n",
    "    temp_list.remove(element_to_remove)\n",
    "\n",
    "new_tuple = tuple(temp_list)\n",
    "\n",
    "print(f\"Original tuple: {my_tuple}\")\n"
   ]
  },
  {
   "cell_type": "markdown",
   "metadata": {},
   "source": [
    "# exercise 20"
   ]
  },
  {
   "cell_type": "code",
   "execution_count": 45,
   "metadata": {},
   "outputs": [
    {
     "name": "stdout",
     "output_type": "stream",
     "text": [
      "Original tuple: (1, 2, 3, 4, 5, 6, 7, 8)\n",
      "New tuple containing subtuples: ((1, 2), (3, 4, 5), (6, 7, 8)).\n"
     ]
    }
   ],
   "source": [
    "a = (1, 2, 3, 4, 5, 6, 7, 8)\n",
    "ranges = [(0, 2), (2, 5), (5, 8)]\n",
    "new_tuple = tuple(a[start:end] for start, end in ranges)\n",
    "print(f\"Original tuple: {a}\")\n",
    "print(f\"New tuple containing subtuples: {new_tuple}.\")\n"
   ]
  },
  {
   "cell_type": "markdown",
   "metadata": {},
   "source": [
    "# exercise 21"
   ]
  },
  {
   "cell_type": "code",
   "execution_count": 46,
   "metadata": {},
   "outputs": [
    {
     "name": "stdout",
     "output_type": "stream",
     "text": [
      "Original tuple: (1, 2, 3)\n",
      "New tuple with each element repeated 3 times: (1, 1, 1, 2, 2, 2, 3, 3, 3).\n"
     ]
    }
   ],
   "source": [
    "a = (1, 2, 3)\n",
    "repeat_count = 3\n",
    "new_tuple = tuple(element for element in a for _ in range(repeat_count))\n",
    "print(f\"Original tuple: {a}\")\n",
    "print(f\"New tuple with each element repeated {repeat_count} times: {new_tuple}.\")\n"
   ]
  },
  {
   "cell_type": "markdown",
   "metadata": {},
   "source": [
    "# exercise 22"
   ]
  },
  {
   "cell_type": "code",
   "execution_count": 47,
   "metadata": {},
   "outputs": [
    {
     "name": "stdout",
     "output_type": "stream",
     "text": [
      "tuple of numbers from 1 to 19:(1, 2, 3, 4, 5, 6, 7, 8, 9, 10, 11, 12, 13, 14, 15, 16, 17, 18, 19)\n"
     ]
    }
   ],
   "source": [
    "a=1\n",
    "b=20\n",
    "ab=tuple(range(a,b))\n",
    "print(f'tuple of numbers from {a} to {b-1}:{ab}')"
   ]
  },
  {
   "cell_type": "markdown",
   "metadata": {},
   "source": [
    "# exercise 23"
   ]
  },
  {
   "cell_type": "code",
   "execution_count": 49,
   "metadata": {},
   "outputs": [
    {
     "name": "stdout",
     "output_type": "stream",
     "text": [
      "origin tuple:[(1, 2), (3, 4), (5, 6)]\n",
      "reversed tuple:[(2, 1), (4, 3), (6, 5)]\n"
     ]
    }
   ],
   "source": [
    "a=[(1,2),(3,4),(5,6)]\n",
    "reverse=[t[::-1] for t in a]\n",
    "print(f'origin tuple:{a}')\n",
    "print(f'reversed tuple:{reverse}')"
   ]
  },
  {
   "cell_type": "markdown",
   "metadata": {},
   "source": [
    "# exercise 24"
   ]
  },
  {
   "cell_type": "code",
   "execution_count": 51,
   "metadata": {},
   "outputs": [
    {
     "name": "stdout",
     "output_type": "stream",
     "text": [
      "the tuple (1, 2, 3, 2, 1) is palindrome: True\n"
     ]
    }
   ],
   "source": [
    "a=(1,2,3,2,1)\n",
    "palindrome=a==a[::-1]\n",
    "print(f'the tuple {a} is palindrome: {palindrome}')\n"
   ]
  },
  {
   "cell_type": "markdown",
   "metadata": {},
   "source": [
    "# exercise 25"
   ]
  },
  {
   "cell_type": "code",
   "execution_count": 53,
   "metadata": {},
   "outputs": [
    {
     "name": "stdout",
     "output_type": "stream",
     "text": [
      "original:(1, 2, 3, 2, 4, 1, 5, 3)\n",
      "new tuple with unique:(1, 2, 3, 4, 5)\n"
     ]
    }
   ],
   "source": [
    "a=(1,2,3,2,4,1,5,3)\n",
    "uniq=tuple()\n",
    "seen=set()\n",
    "for element in a:\n",
    "    if element not in seen:\n",
    "      uniq+=(element,)\n",
    "      seen.add(element)\n",
    "print(f'original:{a}')\n",
    "print(f'new tuple with unique:{uniq}')\n"
   ]
  }
 ],
 "metadata": {
  "kernelspec": {
   "display_name": "Python 3",
   "language": "python",
   "name": "python3"
  },
  "language_info": {
   "codemirror_mode": {
    "name": "ipython",
    "version": 3
   },
   "file_extension": ".py",
   "mimetype": "text/x-python",
   "name": "python",
   "nbconvert_exporter": "python",
   "pygments_lexer": "ipython3",
   "version": "3.10.9"
  }
 },
 "nbformat": 4,
 "nbformat_minor": 2
}
