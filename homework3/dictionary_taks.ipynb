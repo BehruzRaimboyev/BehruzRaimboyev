{
 "cells": [
  {
   "cell_type": "markdown",
   "metadata": {},
   "source": [
    "## Dictionary tasks"
   ]
  },
  {
   "cell_type": "markdown",
   "metadata": {},
   "source": [
    "# exercise 1"
   ]
  },
  {
   "cell_type": "code",
   "execution_count": 1,
   "metadata": {},
   "outputs": [
    {
     "name": "stdout",
     "output_type": "stream",
     "text": [
      "value associated with the key: key not found\n"
     ]
    }
   ],
   "source": [
    "my_dict={\n",
    "    'a':1,\n",
    "    'b':2,\n",
    "    'c':3\n",
    "}\n",
    "key_to_find='d'\n",
    "value=my_dict.get(key_to_find,'key not found')\n",
    "print('value associated with the key:',value)\n"
   ]
  },
  {
   "cell_type": "markdown",
   "metadata": {},
   "source": [
    "# exercise 2"
   ]
  },
  {
   "cell_type": "code",
   "execution_count": 5,
   "metadata": {},
   "outputs": [
    {
     "name": "stdout",
     "output_type": "stream",
     "text": [
      "the key 'b' is present in the dictionary with value:{'a': 1, 'b': 2, 'c': 3}\n"
     ]
    }
   ],
   "source": [
    "a={\n",
    "   'a':1,\n",
    "   'b':2,\n",
    "   'c':3\n",
    "}\n",
    "key_to_find='b'\n",
    "if key_to_find in a:\n",
    "    print(f\"the key '{key_to_find}' is present in the dictionary with value:{a}\")\n",
    "else:\n",
    "    print(f\"the key '{key_to_find}' is not present in the dictionary.\")\n"
   ]
  },
  {
   "cell_type": "markdown",
   "metadata": {},
   "source": [
    "# exercise 3"
   ]
  },
  {
   "cell_type": "code",
   "execution_count": 7,
   "metadata": {},
   "outputs": [
    {
     "name": "stdout",
     "output_type": "stream",
     "text": [
      "the count of present elements: 3\n"
     ]
    }
   ],
   "source": [
    "my_dict={\n",
    "    'a':1,\n",
    "    'b':2,\n",
    "    'c':3\n",
    "}\n",
    "bb=len(my_dict)\n",
    "print('the count of present elements:',bb)\n"
   ]
  },
  {
   "cell_type": "markdown",
   "metadata": {},
   "source": [
    "# exercise 4"
   ]
  },
  {
   "cell_type": "code",
   "execution_count": 12,
   "metadata": {},
   "outputs": [
    {
     "name": "stdout",
     "output_type": "stream",
     "text": [
      "list with all keys: ['a', 'b', 'c']\n"
     ]
    }
   ],
   "source": [
    "my_dict={'a':1,'b':2,'c':3}\n",
    "key_list=list(my_dict.keys())\n",
    "print('list with all keys:',key_list)\n"
   ]
  },
  {
   "cell_type": "markdown",
   "metadata": {},
   "source": [
    "# exercise 5"
   ]
  },
  {
   "cell_type": "code",
   "execution_count": 13,
   "metadata": {},
   "outputs": [
    {
     "name": "stdout",
     "output_type": "stream",
     "text": [
      "list with all values: ['a', 'b', 'c']\n"
     ]
    }
   ],
   "source": [
    "my_dict={'a':1,'b':2,'c':3}\n",
    "keys_list=list(my_dict.values())\n",
    "print('list with all values:',key_list)\n"
   ]
  },
  {
   "cell_type": "markdown",
   "metadata": {},
   "source": [
    "# exercise 6"
   ]
  },
  {
   "cell_type": "code",
   "execution_count": 16,
   "metadata": {},
   "outputs": [
    {
     "name": "stdout",
     "output_type": "stream",
     "text": [
      "the new dictionary which combaines two dictionary:{'a': 1, 'b': 2, 'c': 3, 'd': 4, 'e': 5, 'f': 6}\n"
     ]
    }
   ],
   "source": [
    "first_dict={'a':1,'b':2,'c':3}\n",
    "second_dict={'d':4,'e':5,'f':6}\n",
    "third_dict=first_dict.copy()\n",
    "third_dict.update(second_dict)\n",
    "print(f'the new dictionary which combaines two dictionary:{third_dict}')\n"
   ]
  },
  {
   "cell_type": "markdown",
   "metadata": {},
   "source": [
    "# exercise 7"
   ]
  },
  {
   "cell_type": "code",
   "execution_count": 4,
   "metadata": {},
   "outputs": [
    {
     "name": "stdout",
     "output_type": "stream",
     "text": [
      "{'a': 1, 'b': 2}\n",
      "{'b': 2}\n"
     ]
    }
   ],
   "source": [
    "def remove_keys(dictionary,key):\n",
    "    dictionary.pop(key,None)\n",
    "    return dictionary\n",
    "my_dict={'a':1,'b':2,'c':3}\n",
    "print(remove_keys(my_dict,'c'))\n",
    "print(remove_keys(my_dict,'a'))\n"
   ]
  },
  {
   "cell_type": "markdown",
   "metadata": {},
   "source": [
    "# exercise 8"
   ]
  },
  {
   "cell_type": "code",
   "execution_count": 11,
   "metadata": {},
   "outputs": [
    {
     "name": "stdout",
     "output_type": "stream",
     "text": [
      "new empty dict:None\n"
     ]
    }
   ],
   "source": [
    "my_dict={'a':1,'b':2,'c':3}\n",
    "new_dict=my_dict.clear()\n",
    "print(f'new empty dict:{new_dict}')\n"
   ]
  },
  {
   "cell_type": "markdown",
   "metadata": {},
   "source": [
    "# exercise 9"
   ]
  },
  {
   "cell_type": "code",
   "execution_count": 12,
   "metadata": {},
   "outputs": [
    {
     "name": "stdout",
     "output_type": "stream",
     "text": [
      "dictionary has elements\n"
     ]
    }
   ],
   "source": [
    "my_dict={'a':1,'b':2,'c':3}\n",
    "if len(my_dict)>0:\n",
    "    print('dictionary has elements')\n",
    "else:\n",
    "    print('dicitonary is empty')\n",
    "    "
   ]
  },
  {
   "cell_type": "markdown",
   "metadata": {},
   "source": [
    "# exercise 10"
   ]
  },
  {
   "cell_type": "code",
   "execution_count": 14,
   "metadata": {},
   "outputs": [
    {
     "name": "stdout",
     "output_type": "stream",
     "text": [
      "('b', 2)\n"
     ]
    }
   ],
   "source": [
    "my_dict={'a':1,'b':2,'c':3}\n",
    "key='b'\n",
    "value=my_dict.get(key)\n",
    "if value is not None:\n",
    "    print((key,value))\n",
    "else:\n",
    "    print('key not found.')"
   ]
  },
  {
   "cell_type": "markdown",
   "metadata": {},
   "source": [
    "# exercise 11"
   ]
  },
  {
   "cell_type": "code",
   "execution_count": 17,
   "metadata": {},
   "outputs": [
    {
     "name": "stdout",
     "output_type": "stream",
     "text": [
      "{'a': 1, 'b': 5, 'c': 3}\n"
     ]
    }
   ],
   "source": [
    "my_dict={'a':1,'b':2,'c':3}\n",
    "key='b'\n",
    "new_value=5\n",
    "my_dict[key]=new_value\n",
    "print(my_dict)"
   ]
  },
  {
   "cell_type": "markdown",
   "metadata": {},
   "source": [
    "# exercise 12"
   ]
  },
  {
   "cell_type": "code",
   "execution_count": 20,
   "metadata": {},
   "outputs": [
    {
     "name": "stdout",
     "output_type": "stream",
     "text": [
      "the value 1 appears 2 times\n"
     ]
    }
   ],
   "source": [
    "my_dict={'a':1,'b':2,'c':1}\n",
    "target=1\n",
    "count=0\n",
    "for value in my_dict.values():\n",
    "    if value==target:\n",
    "        count+=1\n",
    "print(f'the value {target} appears {count} times')"
   ]
  },
  {
   "cell_type": "markdown",
   "metadata": {},
   "source": [
    "# exercise 13"
   ]
  },
  {
   "cell_type": "code",
   "execution_count": 21,
   "metadata": {},
   "outputs": [
    {
     "name": "stdout",
     "output_type": "stream",
     "text": [
      "{1: 'a', 2: 'b', 3: 'c'}\n"
     ]
    }
   ],
   "source": [
    "my_dict={'a':1,'b':2,'c':3}\n",
    "swap={value:key for key,value in my_dict.items()}\n",
    "print(swap)"
   ]
  },
  {
   "cell_type": "markdown",
   "metadata": {},
   "source": [
    "# exercise 14"
   ]
  },
  {
   "cell_type": "code",
   "execution_count": 23,
   "metadata": {},
   "outputs": [
    {
     "name": "stdout",
     "output_type": "stream",
     "text": [
      "['a', 'c']\n"
     ]
    }
   ],
   "source": [
    "a={'a':1,\"b\":2,'c':1,'d':3}\n",
    "target=1\n",
    "keys_with=[key for key,value in a.items() if value==target]\n",
    "print(keys_with)\n",
    " "
   ]
  },
  {
   "cell_type": "markdown",
   "metadata": {},
   "source": [
    "# exercise 15"
   ]
  },
  {
   "cell_type": "code",
   "execution_count": 28,
   "metadata": {},
   "outputs": [
    {
     "name": "stdout",
     "output_type": "stream",
     "text": [
      "{'a': 1, 'b': 2, 'c': 3}\n"
     ]
    }
   ],
   "source": [
    "keys=['a','b','c']\n",
    "values=[1,2,3]\n",
    "my_dict=dict(zip(keys,values))\n",
    "print(my_dict)\n",
    "\n"
   ]
  },
  {
   "cell_type": "markdown",
   "metadata": {},
   "source": [
    "# exercise 16"
   ]
  },
  {
   "cell_type": "code",
   "execution_count": 31,
   "metadata": {},
   "outputs": [
    {
     "name": "stdout",
     "output_type": "stream",
     "text": [
      "it has.\n"
     ]
    }
   ],
   "source": [
    "b={'a':1,'b':2,'c':3}\n",
    "check='a'\n",
    "if check in b:\n",
    "    print('it has.')\n",
    "else:\n",
    "    print('it does not exists.')"
   ]
  },
  {
   "cell_type": "markdown",
   "metadata": {},
   "source": [
    "# exercise 17"
   ]
  },
  {
   "cell_type": "code",
   "execution_count": 32,
   "metadata": {},
   "outputs": [
    {
     "name": "stdout",
     "output_type": "stream",
     "text": [
      "value1\n"
     ]
    }
   ],
   "source": [
    "nested_dict = {\n",
    "    'outer_key1': {\n",
    "        'inner_key1': 'value1',\n",
    "        'inner_key2': 'value2'\n",
    "    },\n",
    "    'outer_key2': {\n",
    "        'inner_key3': 'value3',\n",
    "        'inner_key4': 'value4'\n",
    "    }\n",
    "}\n",
    "\n",
    "value = nested_dict['outer_key1']['inner_key1']\n",
    "print(value)  \n"
   ]
  },
  {
   "cell_type": "markdown",
   "metadata": {},
   "source": [
    "# exercise 18"
   ]
  },
  {
   "cell_type": "code",
   "execution_count": 34,
   "metadata": {},
   "outputs": [
    {
     "name": "stdout",
     "output_type": "stream",
     "text": [
      "1\n",
      "0\n",
      "defaultdict(<function <lambda> at 0x000002C9E1203760>, {'a': 1, 'b': 2, 'c': 0})\n"
     ]
    }
   ],
   "source": [
    "from collections import defaultdict\n",
    "my_dict=defaultdict(lambda:0)\n",
    "my_dict['a']=1\n",
    "my_dict['b']=2\n",
    "print(my_dict['a'])\n",
    "print(my_dict['c'])\n",
    "print(my_dict)"
   ]
  },
  {
   "cell_type": "markdown",
   "metadata": {},
   "source": [
    "# exercise 19"
   ]
  },
  {
   "cell_type": "code",
   "execution_count": 35,
   "metadata": {},
   "outputs": [
    {
     "name": "stdout",
     "output_type": "stream",
     "text": [
      "The number of unique values is: 3\n"
     ]
    }
   ],
   "source": [
    "my_dict = {'a': 1, 'b': 2, 'c': 1, 'd': 3}\n",
    "unique = set(my_dict.values())\n",
    "num_uniq = len(unique)\n",
    "print(f\"The number of unique values is: {num_uniq}\")\n"
   ]
  },
  {
   "cell_type": "markdown",
   "metadata": {},
   "source": [
    "# exercise 20"
   ]
  },
  {
   "cell_type": "code",
   "execution_count": null,
   "metadata": {},
   "outputs": [],
   "source": [
    "#'dict' object is not callable"
   ]
  },
  {
   "cell_type": "markdown",
   "metadata": {},
   "source": [
    "# exercise 21"
   ]
  },
  {
   "cell_type": "code",
   "execution_count": null,
   "metadata": {},
   "outputs": [],
   "source": [
    "#'dict' object is not callable"
   ]
  },
  {
   "cell_type": "markdown",
   "metadata": {},
   "source": [
    "# exercise 22"
   ]
  },
  {
   "cell_type": "code",
   "execution_count": 52,
   "metadata": {},
   "outputs": [
    {
     "name": "stdout",
     "output_type": "stream",
     "text": [
      "{'c': 3, 'd': 4}\n"
     ]
    }
   ],
   "source": [
    "my_dict = {'a': 1, 'b': 2, 'c': 3, 'd': 4}\n",
    "filt = {key: value for key, value in my_dict.items() if value > 2}\n",
    "print(filt) \n"
   ]
  },
  {
   "cell_type": "markdown",
   "metadata": {},
   "source": [
    "# exercise 23"
   ]
  },
  {
   "cell_type": "code",
   "execution_count": 53,
   "metadata": {},
   "outputs": [
    {
     "name": "stdout",
     "output_type": "stream",
     "text": [
      "Common keys found: {'c'}\n"
     ]
    }
   ],
   "source": [
    "dict1 = {'a': 1, 'b': 2, 'c': 3}\n",
    "dict2 = {'c': 4, 'd': 5, 'e': 6}\n",
    "commo = set(dict1.keys()) & set(dict2.keys())\n",
    "if commo:\n",
    "    print(\"Common keys found:\", commo)\n",
    "else:\n",
    "    print(\"No common keys.\")\n"
   ]
  },
  {
   "cell_type": "markdown",
   "metadata": {},
   "source": [
    "# exercise 24"
   ]
  },
  {
   "cell_type": "code",
   "execution_count": 55,
   "metadata": {},
   "outputs": [
    {
     "name": "stdout",
     "output_type": "stream",
     "text": [
      "{'a': 1, 'b': 2, 'c': 3}\n"
     ]
    }
   ],
   "source": [
    "key_value = (('a', 1), ('b', 2), ('c', 3))\n",
    "my_dict = dict(key_value)\n",
    "print(my_dict)  \n"
   ]
  },
  {
   "cell_type": "markdown",
   "metadata": {},
   "source": [
    "# exercise 25"
   ]
  },
  {
   "cell_type": "code",
   "execution_count": 56,
   "metadata": {},
   "outputs": [
    {
     "name": "stdout",
     "output_type": "stream",
     "text": [
      "('a', 1)\n"
     ]
    }
   ],
   "source": [
    "my_dict = {'a': 1, 'b': 2, 'c': 3}\n",
    "key_value1 = next(iter(my_dict.items()))\n",
    "print(key_value1)  \n"
   ]
  }
 ],
 "metadata": {
  "kernelspec": {
   "display_name": "Python 3",
   "language": "python",
   "name": "python3"
  },
  "language_info": {
   "codemirror_mode": {
    "name": "ipython",
    "version": 3
   },
   "file_extension": ".py",
   "mimetype": "text/x-python",
   "name": "python",
   "nbconvert_exporter": "python",
   "pygments_lexer": "ipython3",
   "version": "3.10.9"
  }
 },
 "nbformat": 4,
 "nbformat_minor": 2
}
