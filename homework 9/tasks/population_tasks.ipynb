{
 "cells": [
  {
   "cell_type": "markdown",
   "metadata": {},
   "source": [
    "# population table from database"
   ]
  },
  {
   "cell_type": "code",
   "execution_count": 1,
   "metadata": {},
   "outputs": [],
   "source": [
    "import sqlite3\n",
    "import pandas as pd"
   ]
  },
  {
   "cell_type": "code",
   "execution_count": 2,
   "metadata": {},
   "outputs": [
    {
     "data": {
      "text/html": [
       "<div>\n",
       "<style scoped>\n",
       "    .dataframe tbody tr th:only-of-type {\n",
       "        vertical-align: middle;\n",
       "    }\n",
       "\n",
       "    .dataframe tbody tr th {\n",
       "        vertical-align: top;\n",
       "    }\n",
       "\n",
       "    .dataframe thead th {\n",
       "        text-align: right;\n",
       "    }\n",
       "</style>\n",
       "<table border=\"1\" class=\"dataframe\">\n",
       "  <thead>\n",
       "    <tr style=\"text-align: right;\">\n",
       "      <th></th>\n",
       "      <th>id</th>\n",
       "      <th>first_name</th>\n",
       "      <th>last_name</th>\n",
       "      <th>email</th>\n",
       "      <th>gender</th>\n",
       "      <th>salary</th>\n",
       "      <th>state</th>\n",
       "    </tr>\n",
       "  </thead>\n",
       "  <tbody>\n",
       "    <tr>\n",
       "      <th>0</th>\n",
       "      <td>1</td>\n",
       "      <td>Armin</td>\n",
       "      <td>Coltart</td>\n",
       "      <td>acoltart0@abc.net.au</td>\n",
       "      <td>Male</td>\n",
       "      <td>368693</td>\n",
       "      <td>District of Columbia</td>\n",
       "    </tr>\n",
       "    <tr>\n",
       "      <th>1</th>\n",
       "      <td>2</td>\n",
       "      <td>Mia</td>\n",
       "      <td>Tuddenham</td>\n",
       "      <td>mtuddenham1@addthis.com</td>\n",
       "      <td>Female</td>\n",
       "      <td>154398</td>\n",
       "      <td>Florida</td>\n",
       "    </tr>\n",
       "    <tr>\n",
       "      <th>2</th>\n",
       "      <td>3</td>\n",
       "      <td>Kirsteni</td>\n",
       "      <td>Brafield</td>\n",
       "      <td>kbrafield2@arizona.edu</td>\n",
       "      <td>Female</td>\n",
       "      <td>1230304</td>\n",
       "      <td>Georgia</td>\n",
       "    </tr>\n",
       "    <tr>\n",
       "      <th>3</th>\n",
       "      <td>4</td>\n",
       "      <td>Phylis</td>\n",
       "      <td>Furlong</td>\n",
       "      <td>pfurlong3@merriam-webster.com</td>\n",
       "      <td>Female</td>\n",
       "      <td>1567795</td>\n",
       "      <td>California</td>\n",
       "    </tr>\n",
       "    <tr>\n",
       "      <th>4</th>\n",
       "      <td>5</td>\n",
       "      <td>Wandis</td>\n",
       "      <td>Loveredge</td>\n",
       "      <td>wloveredge4@hatena.ne.jp</td>\n",
       "      <td>Female</td>\n",
       "      <td>1136950</td>\n",
       "      <td>Alabama</td>\n",
       "    </tr>\n",
       "  </tbody>\n",
       "</table>\n",
       "</div>"
      ],
      "text/plain": [
       "   id first_name  last_name                          email  gender   salary  \\\n",
       "0   1      Armin    Coltart           acoltart0@abc.net.au    Male   368693   \n",
       "1   2        Mia  Tuddenham        mtuddenham1@addthis.com  Female   154398   \n",
       "2   3   Kirsteni   Brafield         kbrafield2@arizona.edu  Female  1230304   \n",
       "3   4     Phylis    Furlong  pfurlong3@merriam-webster.com  Female  1567795   \n",
       "4   5     Wandis  Loveredge       wloveredge4@hatena.ne.jp  Female  1136950   \n",
       "\n",
       "                  state  \n",
       "0  District of Columbia  \n",
       "1               Florida  \n",
       "2               Georgia  \n",
       "3            California  \n",
       "4               Alabama  "
      ]
     },
     "execution_count": 2,
     "metadata": {},
     "output_type": "execute_result"
    }
   ],
   "source": [
    "with sqlite3.connect('population.db') as con :\n",
    "    pp=pd.read_sql(\"select * from population\",con=con)\n",
    "pp.head()"
   ]
  },
  {
   "cell_type": "markdown",
   "metadata": {},
   "source": [
    "# task 1"
   ]
  },
  {
   "cell_type": "code",
   "execution_count": 4,
   "metadata": {},
   "outputs": [
    {
     "data": {
      "text/html": [
       "<div>\n",
       "<style scoped>\n",
       "    .dataframe tbody tr th:only-of-type {\n",
       "        vertical-align: middle;\n",
       "    }\n",
       "\n",
       "    .dataframe tbody tr th {\n",
       "        vertical-align: top;\n",
       "    }\n",
       "\n",
       "    .dataframe thead th {\n",
       "        text-align: right;\n",
       "    }\n",
       "</style>\n",
       "<table border=\"1\" class=\"dataframe\">\n",
       "  <thead>\n",
       "    <tr style=\"text-align: right;\">\n",
       "      <th></th>\n",
       "      <th>first_name</th>\n",
       "      <th>last_name</th>\n",
       "      <th>gender</th>\n",
       "      <th>salary</th>\n",
       "      <th>state</th>\n",
       "    </tr>\n",
       "  </thead>\n",
       "  <tbody>\n",
       "    <tr>\n",
       "      <th>1</th>\n",
       "      <td>Mia</td>\n",
       "      <td>Tuddenham</td>\n",
       "      <td>Female</td>\n",
       "      <td>154398</td>\n",
       "      <td>Florida</td>\n",
       "    </tr>\n",
       "    <tr>\n",
       "      <th>48</th>\n",
       "      <td>Doris</td>\n",
       "      <td>Wolfers</td>\n",
       "      <td>Female</td>\n",
       "      <td>278456</td>\n",
       "      <td>Florida</td>\n",
       "    </tr>\n",
       "    <tr>\n",
       "      <th>96</th>\n",
       "      <td>Louisa</td>\n",
       "      <td>Lummis</td>\n",
       "      <td>Female</td>\n",
       "      <td>837109</td>\n",
       "      <td>Florida</td>\n",
       "    </tr>\n",
       "    <tr>\n",
       "      <th>116</th>\n",
       "      <td>Cicily</td>\n",
       "      <td>Rhelton</td>\n",
       "      <td>Female</td>\n",
       "      <td>523875</td>\n",
       "      <td>Florida</td>\n",
       "    </tr>\n",
       "    <tr>\n",
       "      <th>128</th>\n",
       "      <td>Kirstyn</td>\n",
       "      <td>Allbon</td>\n",
       "      <td>Female</td>\n",
       "      <td>990315</td>\n",
       "      <td>Florida</td>\n",
       "    </tr>\n",
       "  </tbody>\n",
       "</table>\n",
       "</div>"
      ],
      "text/plain": [
       "    first_name  last_name  gender  salary    state\n",
       "1          Mia  Tuddenham  Female  154398  Florida\n",
       "48       Doris    Wolfers  Female  278456  Florida\n",
       "96      Louisa     Lummis  Female  837109  Florida\n",
       "116     Cicily    Rhelton  Female  523875  Florida\n",
       "128    Kirstyn     Allbon  Female  990315  Florida"
      ]
     },
     "execution_count": 4,
     "metadata": {},
     "output_type": "execute_result"
    }
   ],
   "source": [
    "(pp\n",
    " .query(\"\"\"gender=='Female' and state=='Florida'\"\"\")\n",
    " .drop(columns=['id','email']) \n",
    " ).head()"
   ]
  },
  {
   "cell_type": "markdown",
   "metadata": {},
   "source": [
    "# task 2"
   ]
  },
  {
   "cell_type": "code",
   "execution_count": 13,
   "metadata": {},
   "outputs": [
    {
     "data": {
      "text/plain": [
       "gender\n",
       "Male      13\n",
       "Female     8\n",
       "Name: count, dtype: int64"
      ]
     },
     "execution_count": 13,
     "metadata": {},
     "output_type": "execute_result"
    }
   ],
   "source": [
    "df=pp[pp['email'].str.endswith('@apache.org')]\n",
    "cc=df['gender'].value_counts()\n",
    "cc.head()"
   ]
  },
  {
   "cell_type": "markdown",
   "metadata": {},
   "source": [
    "# task 3"
   ]
  },
  {
   "cell_type": "code",
   "execution_count": 20,
   "metadata": {},
   "outputs": [
    {
     "data": {
      "text/plain": [
       "count\n",
       "1    2848\n",
       "Name: count, dtype: int64"
      ]
     },
     "execution_count": 20,
     "metadata": {},
     "output_type": "execute_result"
    }
   ],
   "source": [
    "male=pp[pp['gender']=='Male']\n",
    "ee=male.query('salary >= 1000000').value_counts()\n",
    "ee.value_counts()"
   ]
  },
  {
   "cell_type": "markdown",
   "metadata": {},
   "source": [
    "# task 4"
   ]
  },
  {
   "cell_type": "code",
   "execution_count": 43,
   "metadata": {},
   "outputs": [
    {
     "data": {
      "text/html": [
       "<div>\n",
       "<style scoped>\n",
       "    .dataframe tbody tr th:only-of-type {\n",
       "        vertical-align: middle;\n",
       "    }\n",
       "\n",
       "    .dataframe tbody tr th {\n",
       "        vertical-align: top;\n",
       "    }\n",
       "\n",
       "    .dataframe thead th {\n",
       "        text-align: right;\n",
       "    }\n",
       "</style>\n",
       "<table border=\"1\" class=\"dataframe\">\n",
       "  <thead>\n",
       "    <tr style=\"text-align: right;\">\n",
       "      <th></th>\n",
       "      <th>first_name</th>\n",
       "      <th>last_name</th>\n",
       "      <th>salary</th>\n",
       "      <th>state</th>\n",
       "    </tr>\n",
       "  </thead>\n",
       "  <tbody>\n",
       "    <tr>\n",
       "      <th>1</th>\n",
       "      <td>Mia</td>\n",
       "      <td>Tuddenham</td>\n",
       "      <td>154398</td>\n",
       "      <td>Florida</td>\n",
       "    </tr>\n",
       "    <tr>\n",
       "      <th>11</th>\n",
       "      <td>Ronalda</td>\n",
       "      <td>Southcott</td>\n",
       "      <td>589810</td>\n",
       "      <td>Alabama</td>\n",
       "    </tr>\n",
       "    <tr>\n",
       "      <th>14</th>\n",
       "      <td>Josephine</td>\n",
       "      <td>Prott</td>\n",
       "      <td>133836</td>\n",
       "      <td>District of Columbia</td>\n",
       "    </tr>\n",
       "    <tr>\n",
       "      <th>16</th>\n",
       "      <td>Kissie</td>\n",
       "      <td>Gandrich</td>\n",
       "      <td>378146</td>\n",
       "      <td>California</td>\n",
       "    </tr>\n",
       "    <tr>\n",
       "      <th>20</th>\n",
       "      <td>Caressa</td>\n",
       "      <td>Karchowski</td>\n",
       "      <td>115785</td>\n",
       "      <td>Texas</td>\n",
       "    </tr>\n",
       "  </tbody>\n",
       "</table>\n",
       "</div>"
      ],
      "text/plain": [
       "   first_name   last_name  salary                 state\n",
       "1         Mia   Tuddenham  154398               Florida\n",
       "11    Ronalda   Southcott  589810               Alabama\n",
       "14  Josephine       Prott  133836  District of Columbia\n",
       "16     Kissie    Gandrich  378146            California\n",
       "20    Caressa  Karchowski  115785                 Texas"
      ]
     },
     "execution_count": 43,
     "metadata": {},
     "output_type": "execute_result"
    }
   ],
   "source": [
    "bb=pp[pp['state']=='Alabama'] \n",
    "bb=pp[pp['gender']=='Female']\n",
    "cc=bb.query('salary <= 800000')\n",
    "(cc\n",
    " .drop(columns=['id','email','gender'])\n",
    ").head()"
   ]
  },
  {
   "cell_type": "markdown",
   "metadata": {},
   "source": [
    "# task 5"
   ]
  },
  {
   "cell_type": "code",
   "execution_count": 60,
   "metadata": {},
   "outputs": [
    {
     "data": {
      "text/html": [
       "<div>\n",
       "<style scoped>\n",
       "    .dataframe tbody tr th:only-of-type {\n",
       "        vertical-align: middle;\n",
       "    }\n",
       "\n",
       "    .dataframe tbody tr th {\n",
       "        vertical-align: top;\n",
       "    }\n",
       "\n",
       "    .dataframe thead th {\n",
       "        text-align: right;\n",
       "    }\n",
       "</style>\n",
       "<table border=\"1\" class=\"dataframe\">\n",
       "  <thead>\n",
       "    <tr style=\"text-align: right;\">\n",
       "      <th></th>\n",
       "      <th>id</th>\n",
       "      <th>first_name</th>\n",
       "      <th>last_name</th>\n",
       "      <th>email</th>\n",
       "      <th>gender</th>\n",
       "      <th>salary</th>\n",
       "      <th>state</th>\n",
       "    </tr>\n",
       "  </thead>\n",
       "  <tbody>\n",
       "  </tbody>\n",
       "</table>\n",
       "</div>"
      ],
      "text/plain": [
       "Empty DataFrame\n",
       "Columns: [id, first_name, last_name, email, gender, salary, state]\n",
       "Index: []"
      ]
     },
     "execution_count": 60,
     "metadata": {},
     "output_type": "execute_result"
    }
   ],
   "source": [
    "inf=pp[pp['email'].str.endswith('@hotmail.com')]\n",
    "(inf\n",
    " .query(\"\"\"state == 'Texas'\"\"\")\n",
    " ).head()"
   ]
  },
  {
   "cell_type": "markdown",
   "metadata": {},
   "source": [
    "# I think there is not an email which ends with @hotmail.com"
   ]
  },
  {
   "cell_type": "markdown",
   "metadata": {},
   "source": [
    "# task 6"
   ]
  },
  {
   "cell_type": "code",
   "execution_count": 68,
   "metadata": {},
   "outputs": [
    {
     "data": {
      "text/plain": [
       "count\n",
       "1    179\n",
       "Name: count, dtype: int64"
      ]
     },
     "execution_count": 68,
     "metadata": {},
     "output_type": "execute_result"
    }
   ],
   "source": [
    "counts=(bb\n",
    ".query(\"\"\"gender=='Male' and state=='California'\"\"\") \n",
    ".query('salary>400000 and salary<900000')\n",
    ").value_counts()\n",
    "counts.value_counts()"
   ]
  },
  {
   "cell_type": "markdown",
   "metadata": {},
   "source": [
    "# task 7"
   ]
  },
  {
   "cell_type": "code",
   "execution_count": 69,
   "metadata": {},
   "outputs": [
    {
     "data": {
      "text/plain": [
       "count\n",
       "1    84\n",
       "Name: count, dtype: int64"
      ]
     },
     "execution_count": 69,
     "metadata": {},
     "output_type": "execute_result"
    }
   ],
   "source": [
    "counts=(pp\n",
    ".query(\"\"\"gender=='Female' and state=='New York'\"\"\") \n",
    ".query('salary<500000') \n",
    ").value_counts()\n",
    "counts.value_counts()"
   ]
  },
  {
   "cell_type": "markdown",
   "metadata": {},
   "source": [
    "# task 8"
   ]
  },
  {
   "cell_type": "code",
   "execution_count": 79,
   "metadata": {},
   "outputs": [
    {
     "data": {
      "text/html": [
       "<div>\n",
       "<style scoped>\n",
       "    .dataframe tbody tr th:only-of-type {\n",
       "        vertical-align: middle;\n",
       "    }\n",
       "\n",
       "    .dataframe tbody tr th {\n",
       "        vertical-align: top;\n",
       "    }\n",
       "\n",
       "    .dataframe thead th {\n",
       "        text-align: right;\n",
       "    }\n",
       "</style>\n",
       "<table border=\"1\" class=\"dataframe\">\n",
       "  <thead>\n",
       "    <tr style=\"text-align: right;\">\n",
       "      <th></th>\n",
       "      <th>first_name</th>\n",
       "      <th>last_name</th>\n",
       "      <th>gender</th>\n",
       "      <th>salary</th>\n",
       "      <th>state</th>\n",
       "    </tr>\n",
       "  </thead>\n",
       "  <tbody>\n",
       "    <tr>\n",
       "      <th>7635</th>\n",
       "      <td>Susette</td>\n",
       "      <td>Emeney</td>\n",
       "      <td>Female</td>\n",
       "      <td>1999095</td>\n",
       "      <td>Georgia</td>\n",
       "    </tr>\n",
       "    <tr>\n",
       "      <th>2330</th>\n",
       "      <td>Emeline</td>\n",
       "      <td>Bebis</td>\n",
       "      <td>Female</td>\n",
       "      <td>1997605</td>\n",
       "      <td>Georgia</td>\n",
       "    </tr>\n",
       "    <tr>\n",
       "      <th>4951</th>\n",
       "      <td>Evyn</td>\n",
       "      <td>Watkins</td>\n",
       "      <td>Male</td>\n",
       "      <td>1994162</td>\n",
       "      <td>Georgia</td>\n",
       "    </tr>\n",
       "    <tr>\n",
       "      <th>6008</th>\n",
       "      <td>Hillyer</td>\n",
       "      <td>Praton</td>\n",
       "      <td>Male</td>\n",
       "      <td>1993907</td>\n",
       "      <td>Georgia</td>\n",
       "    </tr>\n",
       "    <tr>\n",
       "      <th>658</th>\n",
       "      <td>Robinett</td>\n",
       "      <td>Mucci</td>\n",
       "      <td>Female</td>\n",
       "      <td>1989791</td>\n",
       "      <td>Georgia</td>\n",
       "    </tr>\n",
       "    <tr>\n",
       "      <th>46</th>\n",
       "      <td>Verile</td>\n",
       "      <td>Binding</td>\n",
       "      <td>Female</td>\n",
       "      <td>1985757</td>\n",
       "      <td>Georgia</td>\n",
       "    </tr>\n",
       "    <tr>\n",
       "      <th>9490</th>\n",
       "      <td>Harriette</td>\n",
       "      <td>Bonwick</td>\n",
       "      <td>Female</td>\n",
       "      <td>1970839</td>\n",
       "      <td>Georgia</td>\n",
       "    </tr>\n",
       "    <tr>\n",
       "      <th>739</th>\n",
       "      <td>Anita</td>\n",
       "      <td>Vowles</td>\n",
       "      <td>Female</td>\n",
       "      <td>1965112</td>\n",
       "      <td>Georgia</td>\n",
       "    </tr>\n",
       "    <tr>\n",
       "      <th>4081</th>\n",
       "      <td>Tiffi</td>\n",
       "      <td>Lansdown</td>\n",
       "      <td>Female</td>\n",
       "      <td>1962952</td>\n",
       "      <td>Georgia</td>\n",
       "    </tr>\n",
       "    <tr>\n",
       "      <th>3262</th>\n",
       "      <td>Haslett</td>\n",
       "      <td>Nevin</td>\n",
       "      <td>Male</td>\n",
       "      <td>1960207</td>\n",
       "      <td>Georgia</td>\n",
       "    </tr>\n",
       "  </tbody>\n",
       "</table>\n",
       "</div>"
      ],
      "text/plain": [
       "     first_name last_name  gender   salary    state\n",
       "7635    Susette    Emeney  Female  1999095  Georgia\n",
       "2330    Emeline     Bebis  Female  1997605  Georgia\n",
       "4951       Evyn   Watkins    Male  1994162  Georgia\n",
       "6008    Hillyer    Praton    Male  1993907  Georgia\n",
       "658    Robinett     Mucci  Female  1989791  Georgia\n",
       "46       Verile   Binding  Female  1985757  Georgia\n",
       "9490  Harriette   Bonwick  Female  1970839  Georgia\n",
       "739       Anita    Vowles  Female  1965112  Georgia\n",
       "4081      Tiffi  Lansdown  Female  1962952  Georgia\n",
       "3262    Haslett     Nevin    Male  1960207  Georgia"
      ]
     },
     "execution_count": 79,
     "metadata": {},
     "output_type": "execute_result"
    }
   ],
   "source": [
    "high=pp[pp['state']=='Georgia']\n",
    "max=(high\n",
    ".sort_values(by='salary',ascending=False)\n",
    ".drop(columns=['email','id'])\n",
    ")\n",
    "max.head(10)\n"
   ]
  },
  {
   "cell_type": "markdown",
   "metadata": {},
   "source": [
    "# task 9"
   ]
  },
  {
   "cell_type": "code",
   "execution_count": 84,
   "metadata": {},
   "outputs": [
    {
     "data": {
      "text/plain": [
       "count\n",
       "1    951\n",
       "Name: count, dtype: int64"
      ]
     },
     "execution_count": 84,
     "metadata": {},
     "output_type": "execute_result"
    }
   ],
   "source": [
    "count=pp[pp['last_name'].str.startswith('S')]\n",
    "bb=count.query('salary>300000').value_counts()\n",
    "bb.value_counts()"
   ]
  },
  {
   "cell_type": "markdown",
   "metadata": {},
   "source": [
    "# task 10 "
   ]
  },
  {
   "cell_type": "code",
   "execution_count": 98,
   "metadata": {},
   "outputs": [
    {
     "data": {
      "text/plain": [
       "np.float64(1020987.7195121951)"
      ]
     },
     "execution_count": 98,
     "metadata": {},
     "output_type": "execute_result"
    }
   ],
   "source": [
    "avg=(pp\n",
    ".query(\"\"\"gender=='Female' and state=='Oklahoma'\"\"\")\n",
    ")\n",
    "bb=avg['salary'].mean()\n",
    "bb"
   ]
  },
  {
   "cell_type": "markdown",
   "metadata": {},
   "source": [
    "# task 11"
   ]
  },
  {
   "cell_type": "code",
   "execution_count": 106,
   "metadata": {},
   "outputs": [
    {
     "data": {
      "text/html": [
       "<div>\n",
       "<style scoped>\n",
       "    .dataframe tbody tr th:only-of-type {\n",
       "        vertical-align: middle;\n",
       "    }\n",
       "\n",
       "    .dataframe tbody tr th {\n",
       "        vertical-align: top;\n",
       "    }\n",
       "\n",
       "    .dataframe thead th {\n",
       "        text-align: right;\n",
       "    }\n",
       "</style>\n",
       "<table border=\"1\" class=\"dataframe\">\n",
       "  <thead>\n",
       "    <tr style=\"text-align: right;\">\n",
       "      <th></th>\n",
       "      <th>id</th>\n",
       "      <th>first_name</th>\n",
       "      <th>last_name</th>\n",
       "      <th>email</th>\n",
       "      <th>gender</th>\n",
       "      <th>salary</th>\n",
       "      <th>state</th>\n",
       "    </tr>\n",
       "  </thead>\n",
       "  <tbody>\n",
       "    <tr>\n",
       "      <th>327</th>\n",
       "      <td>328</td>\n",
       "      <td>Coop</td>\n",
       "      <td>Chaimson</td>\n",
       "      <td>cchaimson93@themeforest.net</td>\n",
       "      <td>Male</td>\n",
       "      <td>296781</td>\n",
       "      <td>Florida</td>\n",
       "    </tr>\n",
       "    <tr>\n",
       "      <th>818</th>\n",
       "      <td>819</td>\n",
       "      <td>Jobi</td>\n",
       "      <td>Cutmere</td>\n",
       "      <td>jcutmeremq@cpanel.net</td>\n",
       "      <td>Female</td>\n",
       "      <td>1561427</td>\n",
       "      <td>Florida</td>\n",
       "    </tr>\n",
       "    <tr>\n",
       "      <th>924</th>\n",
       "      <td>925</td>\n",
       "      <td>Chris</td>\n",
       "      <td>Garfirth</td>\n",
       "      <td>cgarfirthpo@behance.net</td>\n",
       "      <td>Female</td>\n",
       "      <td>416553</td>\n",
       "      <td>Florida</td>\n",
       "    </tr>\n",
       "    <tr>\n",
       "      <th>1101</th>\n",
       "      <td>1102</td>\n",
       "      <td>Waite</td>\n",
       "      <td>Rudderham</td>\n",
       "      <td>wrudderham2t@seesaa.net</td>\n",
       "      <td>Male</td>\n",
       "      <td>1259094</td>\n",
       "      <td>Florida</td>\n",
       "    </tr>\n",
       "    <tr>\n",
       "      <th>1242</th>\n",
       "      <td>1243</td>\n",
       "      <td>Em</td>\n",
       "      <td>Graffin</td>\n",
       "      <td>egraffin6q@clickbank.net</td>\n",
       "      <td>Female</td>\n",
       "      <td>620022</td>\n",
       "      <td>Florida</td>\n",
       "    </tr>\n",
       "    <tr>\n",
       "      <th>1357</th>\n",
       "      <td>1358</td>\n",
       "      <td>Patrizius</td>\n",
       "      <td>Matskevich</td>\n",
       "      <td>pmatskevich9x@comcast.net</td>\n",
       "      <td>Male</td>\n",
       "      <td>386268</td>\n",
       "      <td>Florida</td>\n",
       "    </tr>\n",
       "    <tr>\n",
       "      <th>1718</th>\n",
       "      <td>1719</td>\n",
       "      <td>Malanie</td>\n",
       "      <td>Harkins</td>\n",
       "      <td>mharkinsjy@seesaa.net</td>\n",
       "      <td>Female</td>\n",
       "      <td>843786</td>\n",
       "      <td>Florida</td>\n",
       "    </tr>\n",
       "    <tr>\n",
       "      <th>1767</th>\n",
       "      <td>1768</td>\n",
       "      <td>Abbie</td>\n",
       "      <td>Isenor</td>\n",
       "      <td>aisenorlb@php.net</td>\n",
       "      <td>Male</td>\n",
       "      <td>116336</td>\n",
       "      <td>Florida</td>\n",
       "    </tr>\n",
       "    <tr>\n",
       "      <th>1996</th>\n",
       "      <td>1997</td>\n",
       "      <td>Eugenio</td>\n",
       "      <td>Halhead</td>\n",
       "      <td>ehalheadro@discuz.net</td>\n",
       "      <td>Male</td>\n",
       "      <td>957513</td>\n",
       "      <td>Florida</td>\n",
       "    </tr>\n",
       "    <tr>\n",
       "      <th>2515</th>\n",
       "      <td>2516</td>\n",
       "      <td>Hobey</td>\n",
       "      <td>Licence</td>\n",
       "      <td>hlicenceeb@ovh.net</td>\n",
       "      <td>Male</td>\n",
       "      <td>1991845</td>\n",
       "      <td>Florida</td>\n",
       "    </tr>\n",
       "    <tr>\n",
       "      <th>3622</th>\n",
       "      <td>3623</td>\n",
       "      <td>Fallon</td>\n",
       "      <td>Bothe</td>\n",
       "      <td>fbotheha@a8.net</td>\n",
       "      <td>Female</td>\n",
       "      <td>678212</td>\n",
       "      <td>Florida</td>\n",
       "    </tr>\n",
       "    <tr>\n",
       "      <th>3842</th>\n",
       "      <td>3843</td>\n",
       "      <td>Geri</td>\n",
       "      <td>Tink</td>\n",
       "      <td>gtinkne@comcast.net</td>\n",
       "      <td>Male</td>\n",
       "      <td>522140</td>\n",
       "      <td>Florida</td>\n",
       "    </tr>\n",
       "    <tr>\n",
       "      <th>3853</th>\n",
       "      <td>3854</td>\n",
       "      <td>Gabriello</td>\n",
       "      <td>Yakebovitch</td>\n",
       "      <td>gyakebovitchnp@earthlink.net</td>\n",
       "      <td>Male</td>\n",
       "      <td>1590134</td>\n",
       "      <td>Florida</td>\n",
       "    </tr>\n",
       "    <tr>\n",
       "      <th>4406</th>\n",
       "      <td>4407</td>\n",
       "      <td>Vida</td>\n",
       "      <td>Bollon</td>\n",
       "      <td>vbollonba@earthlink.net</td>\n",
       "      <td>Female</td>\n",
       "      <td>1856203</td>\n",
       "      <td>Florida</td>\n",
       "    </tr>\n",
       "    <tr>\n",
       "      <th>4737</th>\n",
       "      <td>4738</td>\n",
       "      <td>Cherish</td>\n",
       "      <td>Espie</td>\n",
       "      <td>cespiekh@sourceforge.net</td>\n",
       "      <td>Female</td>\n",
       "      <td>1870875</td>\n",
       "      <td>Florida</td>\n",
       "    </tr>\n",
       "    <tr>\n",
       "      <th>5083</th>\n",
       "      <td>5084</td>\n",
       "      <td>Stevana</td>\n",
       "      <td>Ventris</td>\n",
       "      <td>sventris2b@ovh.net</td>\n",
       "      <td>Female</td>\n",
       "      <td>1216416</td>\n",
       "      <td>Florida</td>\n",
       "    </tr>\n",
       "    <tr>\n",
       "      <th>5885</th>\n",
       "      <td>5886</td>\n",
       "      <td>Denys</td>\n",
       "      <td>Abbay</td>\n",
       "      <td>dabbayol@comcast.net</td>\n",
       "      <td>Female</td>\n",
       "      <td>1414999</td>\n",
       "      <td>Florida</td>\n",
       "    </tr>\n",
       "    <tr>\n",
       "      <th>6092</th>\n",
       "      <td>6093</td>\n",
       "      <td>Christabella</td>\n",
       "      <td>Vacher</td>\n",
       "      <td>cvacher2k@themeforest.net</td>\n",
       "      <td>Female</td>\n",
       "      <td>138100</td>\n",
       "      <td>Florida</td>\n",
       "    </tr>\n",
       "    <tr>\n",
       "      <th>6127</th>\n",
       "      <td>6128</td>\n",
       "      <td>Martita</td>\n",
       "      <td>Amberger</td>\n",
       "      <td>mamberger3j@behance.net</td>\n",
       "      <td>Female</td>\n",
       "      <td>1270075</td>\n",
       "      <td>Florida</td>\n",
       "    </tr>\n",
       "    <tr>\n",
       "      <th>6762</th>\n",
       "      <td>6763</td>\n",
       "      <td>Arnoldo</td>\n",
       "      <td>Fairy</td>\n",
       "      <td>afairyl6@a8.net</td>\n",
       "      <td>Male</td>\n",
       "      <td>904800</td>\n",
       "      <td>Florida</td>\n",
       "    </tr>\n",
       "  </tbody>\n",
       "</table>\n",
       "</div>"
      ],
      "text/plain": [
       "        id    first_name    last_name                         email  gender  \\\n",
       "327    328          Coop     Chaimson   cchaimson93@themeforest.net    Male   \n",
       "818    819          Jobi      Cutmere         jcutmeremq@cpanel.net  Female   \n",
       "924    925         Chris     Garfirth       cgarfirthpo@behance.net  Female   \n",
       "1101  1102         Waite    Rudderham       wrudderham2t@seesaa.net    Male   \n",
       "1242  1243            Em      Graffin      egraffin6q@clickbank.net  Female   \n",
       "1357  1358     Patrizius   Matskevich     pmatskevich9x@comcast.net    Male   \n",
       "1718  1719       Malanie      Harkins         mharkinsjy@seesaa.net  Female   \n",
       "1767  1768         Abbie       Isenor             aisenorlb@php.net    Male   \n",
       "1996  1997       Eugenio      Halhead         ehalheadro@discuz.net    Male   \n",
       "2515  2516         Hobey      Licence            hlicenceeb@ovh.net    Male   \n",
       "3622  3623        Fallon        Bothe               fbotheha@a8.net  Female   \n",
       "3842  3843          Geri         Tink           gtinkne@comcast.net    Male   \n",
       "3853  3854     Gabriello  Yakebovitch  gyakebovitchnp@earthlink.net    Male   \n",
       "4406  4407          Vida       Bollon       vbollonba@earthlink.net  Female   \n",
       "4737  4738       Cherish        Espie      cespiekh@sourceforge.net  Female   \n",
       "5083  5084       Stevana      Ventris            sventris2b@ovh.net  Female   \n",
       "5885  5886         Denys        Abbay          dabbayol@comcast.net  Female   \n",
       "6092  6093  Christabella       Vacher     cvacher2k@themeforest.net  Female   \n",
       "6127  6128       Martita     Amberger       mamberger3j@behance.net  Female   \n",
       "6762  6763       Arnoldo        Fairy               afairyl6@a8.net    Male   \n",
       "\n",
       "       salary    state  \n",
       "327    296781  Florida  \n",
       "818   1561427  Florida  \n",
       "924    416553  Florida  \n",
       "1101  1259094  Florida  \n",
       "1242   620022  Florida  \n",
       "1357   386268  Florida  \n",
       "1718   843786  Florida  \n",
       "1767   116336  Florida  \n",
       "1996   957513  Florida  \n",
       "2515  1991845  Florida  \n",
       "3622   678212  Florida  \n",
       "3842   522140  Florida  \n",
       "3853  1590134  Florida  \n",
       "4406  1856203  Florida  \n",
       "4737  1870875  Florida  \n",
       "5083  1216416  Florida  \n",
       "5885  1414999  Florida  \n",
       "6092   138100  Florida  \n",
       "6127  1270075  Florida  \n",
       "6762   904800  Florida  "
      ]
     },
     "execution_count": 106,
     "metadata": {},
     "output_type": "execute_result"
    }
   ],
   "source": [
    "b=pp[(pp['state']=='Florida') & (pp['email'].str.endswith('.net'))]\n",
    "bb.head(20)"
   ]
  },
  {
   "cell_type": "markdown",
   "metadata": {},
   "source": [
    "# task 12"
   ]
  },
  {
   "cell_type": "code",
   "execution_count": 108,
   "metadata": {},
   "outputs": [
    {
     "data": {
      "text/plain": [
       "count\n",
       "1    512\n",
       "Name: count, dtype: int64"
      ]
     },
     "execution_count": 108,
     "metadata": {},
     "output_type": "execute_result"
    }
   ],
   "source": [
    "b=pp[pp['first_name'].str.startswith('K')]\n",
    "p=(b\n",
    ".query('salary<100000000')\n",
    "\n",
    ").value_counts()\n",
    "p.value_counts()"
   ]
  },
  {
   "cell_type": "markdown",
   "metadata": {},
   "source": [
    "# task 13"
   ]
  },
  {
   "cell_type": "code",
   "execution_count": 114,
   "metadata": {},
   "outputs": [
    {
     "data": {
      "text/html": [
       "<div>\n",
       "<style scoped>\n",
       "    .dataframe tbody tr th:only-of-type {\n",
       "        vertical-align: middle;\n",
       "    }\n",
       "\n",
       "    .dataframe tbody tr th {\n",
       "        vertical-align: top;\n",
       "    }\n",
       "\n",
       "    .dataframe thead th {\n",
       "        text-align: right;\n",
       "    }\n",
       "</style>\n",
       "<table border=\"1\" class=\"dataframe\">\n",
       "  <thead>\n",
       "    <tr style=\"text-align: right;\">\n",
       "      <th></th>\n",
       "      <th>id</th>\n",
       "      <th>first_name</th>\n",
       "      <th>last_name</th>\n",
       "      <th>email</th>\n",
       "      <th>gender</th>\n",
       "      <th>salary</th>\n",
       "      <th>state</th>\n",
       "    </tr>\n",
       "  </thead>\n",
       "  <tbody>\n",
       "  </tbody>\n",
       "</table>\n",
       "</div>"
      ],
      "text/plain": [
       "Empty DataFrame\n",
       "Columns: [id, first_name, last_name, email, gender, salary, state]\n",
       "Index: []"
      ]
     },
     "execution_count": 114,
     "metadata": {},
     "output_type": "execute_result"
    }
   ],
   "source": [
    "bb=pp[(pp['email'].str.endswith('gmail.com')) & (df['salary']<200000)]\n",
    "bb.head()"
   ]
  },
  {
   "cell_type": "markdown",
   "metadata": {},
   "source": [
    "# task 14 "
   ]
  },
  {
   "cell_type": "code",
   "execution_count": 118,
   "metadata": {},
   "outputs": [
    {
     "data": {
      "text/html": [
       "<div>\n",
       "<style scoped>\n",
       "    .dataframe tbody tr th:only-of-type {\n",
       "        vertical-align: middle;\n",
       "    }\n",
       "\n",
       "    .dataframe tbody tr th {\n",
       "        vertical-align: top;\n",
       "    }\n",
       "\n",
       "    .dataframe thead th {\n",
       "        text-align: right;\n",
       "    }\n",
       "</style>\n",
       "<table border=\"1\" class=\"dataframe\">\n",
       "  <thead>\n",
       "    <tr style=\"text-align: right;\">\n",
       "      <th></th>\n",
       "      <th>id</th>\n",
       "      <th>first_name</th>\n",
       "      <th>last_name</th>\n",
       "      <th>email</th>\n",
       "      <th>gender</th>\n",
       "      <th>salary</th>\n",
       "      <th>state</th>\n",
       "    </tr>\n",
       "  </thead>\n",
       "  <tbody>\n",
       "    <tr>\n",
       "      <th>73</th>\n",
       "      <td>74</td>\n",
       "      <td>Adriano</td>\n",
       "      <td>Hayhurst</td>\n",
       "      <td>ahayhurst21@networkadvertising.org</td>\n",
       "      <td>Male</td>\n",
       "      <td>487763</td>\n",
       "      <td>Ohio</td>\n",
       "    </tr>\n",
       "  </tbody>\n",
       "</table>\n",
       "</div>"
      ],
      "text/plain": [
       "    id first_name last_name                               email gender  \\\n",
       "73  74    Adriano  Hayhurst  ahayhurst21@networkadvertising.org   Male   \n",
       "\n",
       "    salary state  \n",
       "73  487763  Ohio  "
      ]
     },
     "execution_count": 118,
     "metadata": {},
     "output_type": "execute_result"
    }
   ],
   "source": [
    "bb=pp[(pp['gender']=='Male') & (pp['state']=='Ohio')]\n",
    "bb.groupby('salary').agg(['min'])\n",
    "bb.head(1)"
   ]
  },
  {
   "cell_type": "markdown",
   "metadata": {},
   "source": [
    "# task 15"
   ]
  },
  {
   "cell_type": "code",
   "execution_count": 139,
   "metadata": {},
   "outputs": [
    {
     "data": {
      "text/plain": [
       "id     first_name  last_name  email                             gender  salary   state      \n",
       "11649  Papageno    Buchanan   pbuchanani2@pagesperso-orange.fr  Male    1271538  Florida        1\n",
       "11633  Wake        Sperwell   wsperwellhm@hc360.com             Male    1916655  California     1\n",
       "11632  Cathrin     Paule      cpaulehl@google.com.hk            Female  301850   Virginia       1\n",
       "11631  Ana         Roony      aroonyhk@redcross.org             Female  1692096  Missouri       1\n",
       "11630  Gorden      Flatman    gflatmanhj@paypal.com             Male    917108   Alabama        1\n",
       "                                                                                               ..\n",
       "6      Denis       Martyn     dmartyn5@unc.edu                  Male    547205   Connecticut    1\n",
       "5      Wandis      Loveredge  wloveredge4@hatena.ne.jp          Female  1136950  Alabama        1\n",
       "4      Phylis      Furlong    pfurlong3@merriam-webster.com     Female  1567795  California     1\n",
       "3      Kirsteni    Brafield   kbrafield2@arizona.edu            Female  1230304  Georgia        1\n",
       "2      Mia         Tuddenham  mtuddenham1@addthis.com           Female  154398   Florida        1\n",
       "Name: count, Length: 11649, dtype: int64"
      ]
     },
     "execution_count": 139,
     "metadata": {},
     "output_type": "execute_result"
    }
   ],
   "source": [
    "(pp\n",
    ".query(\"salary > 800000\")\n",
    ".query(\"\"\"gender=='Female' and state=='California'\"\"\")\n",
    ").value_counts()\n",
    "pp.value_counts()"
   ]
  },
  {
   "cell_type": "markdown",
   "metadata": {},
   "source": [
    "# task 16"
   ]
  },
  {
   "cell_type": "code",
   "execution_count": 142,
   "metadata": {},
   "outputs": [
    {
     "data": {
      "text/html": [
       "<div>\n",
       "<style scoped>\n",
       "    .dataframe tbody tr th:only-of-type {\n",
       "        vertical-align: middle;\n",
       "    }\n",
       "\n",
       "    .dataframe tbody tr th {\n",
       "        vertical-align: top;\n",
       "    }\n",
       "\n",
       "    .dataframe thead th {\n",
       "        text-align: right;\n",
       "    }\n",
       "</style>\n",
       "<table border=\"1\" class=\"dataframe\">\n",
       "  <thead>\n",
       "    <tr style=\"text-align: right;\">\n",
       "      <th></th>\n",
       "      <th>id</th>\n",
       "      <th>first_name</th>\n",
       "      <th>last_name</th>\n",
       "      <th>email</th>\n",
       "      <th>gender</th>\n",
       "      <th>salary</th>\n",
       "      <th>state</th>\n",
       "    </tr>\n",
       "  </thead>\n",
       "  <tbody>\n",
       "    <tr>\n",
       "      <th>19</th>\n",
       "      <td>20</td>\n",
       "      <td>Pat</td>\n",
       "      <td>Dunbar</td>\n",
       "      <td>pdunbarj@irs.gov</td>\n",
       "      <td>Male</td>\n",
       "      <td>1424714</td>\n",
       "      <td>Pennsylvania</td>\n",
       "    </tr>\n",
       "    <tr>\n",
       "      <th>24</th>\n",
       "      <td>25</td>\n",
       "      <td>Omar</td>\n",
       "      <td>Willshear</td>\n",
       "      <td>owillshearo@biglobe.ne.jp</td>\n",
       "      <td>Male</td>\n",
       "      <td>1727275</td>\n",
       "      <td>Kansas</td>\n",
       "    </tr>\n",
       "    <tr>\n",
       "      <th>53</th>\n",
       "      <td>54</td>\n",
       "      <td>Heath</td>\n",
       "      <td>Chick</td>\n",
       "      <td>hchick1h@netvibes.com</td>\n",
       "      <td>Male</td>\n",
       "      <td>1213441</td>\n",
       "      <td>Virginia</td>\n",
       "    </tr>\n",
       "    <tr>\n",
       "      <th>63</th>\n",
       "      <td>64</td>\n",
       "      <td>Wat</td>\n",
       "      <td>Persey</td>\n",
       "      <td>wpersey1r@qq.com</td>\n",
       "      <td>Male</td>\n",
       "      <td>1752514</td>\n",
       "      <td>New York</td>\n",
       "    </tr>\n",
       "    <tr>\n",
       "      <th>66</th>\n",
       "      <td>67</td>\n",
       "      <td>Yorke</td>\n",
       "      <td>Redolfi</td>\n",
       "      <td>yredolfi1u@abc.net.au</td>\n",
       "      <td>Male</td>\n",
       "      <td>1337608</td>\n",
       "      <td>Florida</td>\n",
       "    </tr>\n",
       "  </tbody>\n",
       "</table>\n",
       "</div>"
      ],
      "text/plain": [
       "    id first_name  last_name                      email gender   salary  \\\n",
       "19  20        Pat     Dunbar           pdunbarj@irs.gov   Male  1424714   \n",
       "24  25       Omar  Willshear  owillshearo@biglobe.ne.jp   Male  1727275   \n",
       "53  54      Heath      Chick      hchick1h@netvibes.com   Male  1213441   \n",
       "63  64        Wat     Persey           wpersey1r@qq.com   Male  1752514   \n",
       "66  67      Yorke    Redolfi      yredolfi1u@abc.net.au   Male  1337608   \n",
       "\n",
       "           state  \n",
       "19  Pennsylvania  \n",
       "24        Kansas  \n",
       "53      Virginia  \n",
       "63      New York  \n",
       "66       Florida  "
      ]
     },
     "execution_count": 142,
     "metadata": {},
     "output_type": "execute_result"
    }
   ],
   "source": [
    "(pp\n",
    ".query(\"\"\"gender=='Male' and salary > 1200000\"\"\")\n",
    ").head()"
   ]
  },
  {
   "cell_type": "markdown",
   "metadata": {},
   "source": [
    "# task 17 "
   ]
  },
  {
   "cell_type": "code",
   "execution_count": 144,
   "metadata": {},
   "outputs": [
    {
     "data": {
      "text/html": [
       "<div>\n",
       "<style scoped>\n",
       "    .dataframe tbody tr th:only-of-type {\n",
       "        vertical-align: middle;\n",
       "    }\n",
       "\n",
       "    .dataframe tbody tr th {\n",
       "        vertical-align: top;\n",
       "    }\n",
       "\n",
       "    .dataframe thead th {\n",
       "        text-align: right;\n",
       "    }\n",
       "</style>\n",
       "<table border=\"1\" class=\"dataframe\">\n",
       "  <thead>\n",
       "    <tr style=\"text-align: right;\">\n",
       "      <th></th>\n",
       "      <th>id</th>\n",
       "      <th>first_name</th>\n",
       "      <th>last_name</th>\n",
       "      <th>email</th>\n",
       "      <th>gender</th>\n",
       "      <th>salary</th>\n",
       "      <th>state</th>\n",
       "    </tr>\n",
       "  </thead>\n",
       "  <tbody>\n",
       "    <tr>\n",
       "      <th>72</th>\n",
       "      <td>73</td>\n",
       "      <td>Granthem</td>\n",
       "      <td>Essberger</td>\n",
       "      <td>gessberger20@illinois.edu</td>\n",
       "      <td>Male</td>\n",
       "      <td>1587610</td>\n",
       "      <td>New Jersey</td>\n",
       "    </tr>\n",
       "    <tr>\n",
       "      <th>100</th>\n",
       "      <td>101</td>\n",
       "      <td>Gun</td>\n",
       "      <td>Cutler</td>\n",
       "      <td>gcutler2s@virginia.edu</td>\n",
       "      <td>Male</td>\n",
       "      <td>1673082</td>\n",
       "      <td>Texas</td>\n",
       "    </tr>\n",
       "    <tr>\n",
       "      <th>235</th>\n",
       "      <td>236</td>\n",
       "      <td>Gaultiero</td>\n",
       "      <td>Duddle</td>\n",
       "      <td>gduddle6j@utexas.edu</td>\n",
       "      <td>Male</td>\n",
       "      <td>1989965</td>\n",
       "      <td>Florida</td>\n",
       "    </tr>\n",
       "    <tr>\n",
       "      <th>301</th>\n",
       "      <td>302</td>\n",
       "      <td>Brander</td>\n",
       "      <td>Couvert</td>\n",
       "      <td>bcouvert8d@psu.edu</td>\n",
       "      <td>Male</td>\n",
       "      <td>1618404</td>\n",
       "      <td>District of Columbia</td>\n",
       "    </tr>\n",
       "    <tr>\n",
       "      <th>643</th>\n",
       "      <td>644</td>\n",
       "      <td>Vasily</td>\n",
       "      <td>Warrillow</td>\n",
       "      <td>vwarrillowhv@arizona.edu</td>\n",
       "      <td>Male</td>\n",
       "      <td>1534003</td>\n",
       "      <td>Texas</td>\n",
       "    </tr>\n",
       "  </tbody>\n",
       "</table>\n",
       "</div>"
      ],
      "text/plain": [
       "      id first_name  last_name                      email gender   salary  \\\n",
       "72    73   Granthem  Essberger  gessberger20@illinois.edu   Male  1587610   \n",
       "100  101        Gun     Cutler     gcutler2s@virginia.edu   Male  1673082   \n",
       "235  236  Gaultiero     Duddle       gduddle6j@utexas.edu   Male  1989965   \n",
       "301  302    Brander    Couvert         bcouvert8d@psu.edu   Male  1618404   \n",
       "643  644     Vasily  Warrillow   vwarrillowhv@arizona.edu   Male  1534003   \n",
       "\n",
       "                    state  \n",
       "72             New Jersey  \n",
       "100                 Texas  \n",
       "235               Florida  \n",
       "301  District of Columbia  \n",
       "643                 Texas  "
      ]
     },
     "execution_count": 144,
     "metadata": {},
     "output_type": "execute_result"
    }
   ],
   "source": [
    "bb=pp[pp['email'].str.contains('edu')]\n",
    "(bb\n",
    ".query(\"\"\"gender=='Male' and salary>1500000\"\"\")\n",
    ").head()"
   ]
  },
  {
   "cell_type": "markdown",
   "metadata": {},
   "source": [
    "# task 18"
   ]
  },
  {
   "cell_type": "code",
   "execution_count": 146,
   "metadata": {},
   "outputs": [
    {
     "data": {
      "text/plain": [
       "count\n",
       "1    5\n",
       "Name: count, dtype: int64"
      ]
     },
     "execution_count": 146,
     "metadata": {},
     "output_type": "execute_result"
    }
   ],
   "source": [
    "b=(pp\n",
    ".query(\"\"\"state=='Alabama' and salary < 100000\"\"\") \n",
    ").value_counts()\n",
    "b.value_counts()"
   ]
  },
  {
   "cell_type": "markdown",
   "metadata": {},
   "source": [
    "# task 19"
   ]
  },
  {
   "cell_type": "code",
   "execution_count": 151,
   "metadata": {},
   "outputs": [
    {
     "data": {
      "text/html": [
       "<div>\n",
       "<style scoped>\n",
       "    .dataframe tbody tr th:only-of-type {\n",
       "        vertical-align: middle;\n",
       "    }\n",
       "\n",
       "    .dataframe tbody tr th {\n",
       "        vertical-align: top;\n",
       "    }\n",
       "\n",
       "    .dataframe thead th {\n",
       "        text-align: right;\n",
       "    }\n",
       "</style>\n",
       "<table border=\"1\" class=\"dataframe\">\n",
       "  <thead>\n",
       "    <tr style=\"text-align: right;\">\n",
       "      <th></th>\n",
       "      <th>id</th>\n",
       "      <th>first_name</th>\n",
       "      <th>last_name</th>\n",
       "      <th>email</th>\n",
       "      <th>gender</th>\n",
       "      <th>salary</th>\n",
       "      <th>state</th>\n",
       "    </tr>\n",
       "  </thead>\n",
       "  <tbody>\n",
       "    <tr>\n",
       "      <th>22</th>\n",
       "      <td>23</td>\n",
       "      <td>Gilburt</td>\n",
       "      <td>Metson</td>\n",
       "      <td>gmetsonm@cornell.edu</td>\n",
       "      <td>Male</td>\n",
       "      <td>1034660</td>\n",
       "      <td>Idaho</td>\n",
       "    </tr>\n",
       "    <tr>\n",
       "      <th>26</th>\n",
       "      <td>27</td>\n",
       "      <td>Raymund</td>\n",
       "      <td>Dodgshon</td>\n",
       "      <td>rdodgshonq@cargocollective.com</td>\n",
       "      <td>Male</td>\n",
       "      <td>1096837</td>\n",
       "      <td>Illinois</td>\n",
       "    </tr>\n",
       "    <tr>\n",
       "      <th>42</th>\n",
       "      <td>43</td>\n",
       "      <td>Auroora</td>\n",
       "      <td>Startin</td>\n",
       "      <td>astartin16@webs.com</td>\n",
       "      <td>Female</td>\n",
       "      <td>612491</td>\n",
       "      <td>New York</td>\n",
       "    </tr>\n",
       "    <tr>\n",
       "      <th>65</th>\n",
       "      <td>66</td>\n",
       "      <td>Deana</td>\n",
       "      <td>Gerran</td>\n",
       "      <td>dgerran1t@columbia.edu</td>\n",
       "      <td>Female</td>\n",
       "      <td>1201146</td>\n",
       "      <td>Washington</td>\n",
       "    </tr>\n",
       "    <tr>\n",
       "      <th>67</th>\n",
       "      <td>68</td>\n",
       "      <td>Lauretta</td>\n",
       "      <td>Creavin</td>\n",
       "      <td>lcreavin1v@patch.com</td>\n",
       "      <td>Female</td>\n",
       "      <td>1732422</td>\n",
       "      <td>Texas</td>\n",
       "    </tr>\n",
       "  </tbody>\n",
       "</table>\n",
       "</div>"
      ],
      "text/plain": [
       "    id first_name last_name                           email  gender   salary  \\\n",
       "22  23    Gilburt    Metson            gmetsonm@cornell.edu    Male  1034660   \n",
       "26  27    Raymund  Dodgshon  rdodgshonq@cargocollective.com    Male  1096837   \n",
       "42  43    Auroora   Startin             astartin16@webs.com  Female   612491   \n",
       "65  66      Deana    Gerran          dgerran1t@columbia.edu  Female  1201146   \n",
       "67  68   Lauretta   Creavin            lcreavin1v@patch.com  Female  1732422   \n",
       "\n",
       "         state  \n",
       "22       Idaho  \n",
       "26    Illinois  \n",
       "42    New York  \n",
       "65  Washington  \n",
       "67       Texas  "
      ]
     },
     "execution_count": 151,
     "metadata": {},
     "output_type": "execute_result"
    }
   ],
   "source": [
    "bb=pp[pp['last_name'].str.endswith('n')]\n",
    "(bb\n",
    ".query(\"salary > 600000\")\n",
    ").head()"
   ]
  },
  {
   "cell_type": "markdown",
   "metadata": {},
   "source": [
    "# task 20 "
   ]
  },
  {
   "cell_type": "code",
   "execution_count": 154,
   "metadata": {},
   "outputs": [
    {
     "data": {
      "text/html": [
       "<div>\n",
       "<style scoped>\n",
       "    .dataframe tbody tr th:only-of-type {\n",
       "        vertical-align: middle;\n",
       "    }\n",
       "\n",
       "    .dataframe tbody tr th {\n",
       "        vertical-align: top;\n",
       "    }\n",
       "\n",
       "    .dataframe thead th {\n",
       "        text-align: right;\n",
       "    }\n",
       "</style>\n",
       "<table border=\"1\" class=\"dataframe\">\n",
       "  <thead>\n",
       "    <tr style=\"text-align: right;\">\n",
       "      <th></th>\n",
       "      <th>id</th>\n",
       "      <th>first_name</th>\n",
       "      <th>last_name</th>\n",
       "      <th>email</th>\n",
       "      <th>gender</th>\n",
       "      <th>salary</th>\n",
       "      <th>state</th>\n",
       "    </tr>\n",
       "  </thead>\n",
       "  <tbody>\n",
       "    <tr>\n",
       "      <th>0</th>\n",
       "      <td>1</td>\n",
       "      <td>Armin</td>\n",
       "      <td>Coltart</td>\n",
       "      <td>acoltart0@abc.net.au</td>\n",
       "      <td>Male</td>\n",
       "      <td>368693</td>\n",
       "      <td>District of Columbia</td>\n",
       "    </tr>\n",
       "  </tbody>\n",
       "</table>\n",
       "</div>"
      ],
      "text/plain": [
       "   id first_name last_name                 email gender  salary  \\\n",
       "0   1      Armin   Coltart  acoltart0@abc.net.au   Male  368693   \n",
       "\n",
       "                  state  \n",
       "0  District of Columbia  "
      ]
     },
     "execution_count": 154,
     "metadata": {},
     "output_type": "execute_result"
    }
   ],
   "source": [
    "bb=pp[pp['state']=='District of Columbia']\n",
    "bb.groupby('salary').agg(['max'])\n",
    "bb.head(1)"
   ]
  },
  {
   "cell_type": "markdown",
   "metadata": {},
   "source": [
    "# task 21"
   ]
  },
  {
   "cell_type": "code",
   "execution_count": 155,
   "metadata": {},
   "outputs": [
    {
     "data": {
      "text/html": [
       "<div>\n",
       "<style scoped>\n",
       "    .dataframe tbody tr th:only-of-type {\n",
       "        vertical-align: middle;\n",
       "    }\n",
       "\n",
       "    .dataframe tbody tr th {\n",
       "        vertical-align: top;\n",
       "    }\n",
       "\n",
       "    .dataframe thead th {\n",
       "        text-align: right;\n",
       "    }\n",
       "</style>\n",
       "<table border=\"1\" class=\"dataframe\">\n",
       "  <thead>\n",
       "    <tr style=\"text-align: right;\">\n",
       "      <th></th>\n",
       "      <th>id</th>\n",
       "      <th>first_name</th>\n",
       "      <th>last_name</th>\n",
       "      <th>email</th>\n",
       "      <th>gender</th>\n",
       "      <th>salary</th>\n",
       "      <th>state</th>\n",
       "    </tr>\n",
       "  </thead>\n",
       "  <tbody>\n",
       "    <tr>\n",
       "      <th>42</th>\n",
       "      <td>43</td>\n",
       "      <td>Auroora</td>\n",
       "      <td>Startin</td>\n",
       "      <td>astartin16@webs.com</td>\n",
       "      <td>Female</td>\n",
       "      <td>612491</td>\n",
       "      <td>New York</td>\n",
       "    </tr>\n",
       "    <tr>\n",
       "      <th>81</th>\n",
       "      <td>82</td>\n",
       "      <td>Anna-diana</td>\n",
       "      <td>Lean</td>\n",
       "      <td>alean29@oracle.com</td>\n",
       "      <td>Female</td>\n",
       "      <td>846840</td>\n",
       "      <td>New York</td>\n",
       "    </tr>\n",
       "    <tr>\n",
       "      <th>173</th>\n",
       "      <td>174</td>\n",
       "      <td>Erma</td>\n",
       "      <td>Grimes</td>\n",
       "      <td>egrimes4t@senate.gov</td>\n",
       "      <td>Female</td>\n",
       "      <td>727051</td>\n",
       "      <td>New York</td>\n",
       "    </tr>\n",
       "    <tr>\n",
       "      <th>174</th>\n",
       "      <td>175</td>\n",
       "      <td>Allissa</td>\n",
       "      <td>Degoey</td>\n",
       "      <td>adegoey4u@1688.com</td>\n",
       "      <td>Female</td>\n",
       "      <td>650147</td>\n",
       "      <td>New York</td>\n",
       "    </tr>\n",
       "    <tr>\n",
       "      <th>193</th>\n",
       "      <td>194</td>\n",
       "      <td>Imogen</td>\n",
       "      <td>De la Yglesia</td>\n",
       "      <td>idelayglesia5d@slashdot.org</td>\n",
       "      <td>Female</td>\n",
       "      <td>567237</td>\n",
       "      <td>New York</td>\n",
       "    </tr>\n",
       "  </tbody>\n",
       "</table>\n",
       "</div>"
      ],
      "text/plain": [
       "      id  first_name      last_name                        email  gender  \\\n",
       "42    43     Auroora        Startin          astartin16@webs.com  Female   \n",
       "81    82  Anna-diana           Lean           alean29@oracle.com  Female   \n",
       "173  174        Erma         Grimes         egrimes4t@senate.gov  Female   \n",
       "174  175     Allissa         Degoey           adegoey4u@1688.com  Female   \n",
       "193  194      Imogen  De la Yglesia  idelayglesia5d@slashdot.org  Female   \n",
       "\n",
       "     salary     state  \n",
       "42   612491  New York  \n",
       "81   846840  New York  \n",
       "173  727051  New York  \n",
       "174  650147  New York  \n",
       "193  567237  New York  "
      ]
     },
     "execution_count": 155,
     "metadata": {},
     "output_type": "execute_result"
    }
   ],
   "source": [
    "bb=pp[(pp['gender']=='Female') & (pp['state']=='New York')]\n",
    "(bb\n",
    ".query(\"\"\"salary > 500000 and salary < 1000000\"\"\") \n",
    ").head()"
   ]
  },
  {
   "cell_type": "markdown",
   "metadata": {},
   "source": [
    "# task 22"
   ]
  },
  {
   "cell_type": "code",
   "execution_count": 157,
   "metadata": {},
   "outputs": [
    {
     "data": {
      "text/html": [
       "<div>\n",
       "<style scoped>\n",
       "    .dataframe tbody tr th:only-of-type {\n",
       "        vertical-align: middle;\n",
       "    }\n",
       "\n",
       "    .dataframe tbody tr th {\n",
       "        vertical-align: top;\n",
       "    }\n",
       "\n",
       "    .dataframe thead th {\n",
       "        text-align: right;\n",
       "    }\n",
       "</style>\n",
       "<table border=\"1\" class=\"dataframe\">\n",
       "  <thead>\n",
       "    <tr style=\"text-align: right;\">\n",
       "      <th></th>\n",
       "      <th>id</th>\n",
       "      <th>first_name</th>\n",
       "      <th>last_name</th>\n",
       "      <th>email</th>\n",
       "      <th>gender</th>\n",
       "      <th>salary</th>\n",
       "      <th>state</th>\n",
       "    </tr>\n",
       "  </thead>\n",
       "  <tbody>\n",
       "    <tr>\n",
       "      <th>6485</th>\n",
       "      <td>6486</td>\n",
       "      <td>Johnette</td>\n",
       "      <td>Goldsack</td>\n",
       "      <td>jgoldsackdh@yahoo.com</td>\n",
       "      <td>Female</td>\n",
       "      <td>1430229</td>\n",
       "      <td>Texas</td>\n",
       "    </tr>\n",
       "  </tbody>\n",
       "</table>\n",
       "</div>"
      ],
      "text/plain": [
       "        id first_name last_name                  email  gender   salary  state\n",
       "6485  6486   Johnette  Goldsack  jgoldsackdh@yahoo.com  Female  1430229  Texas"
      ]
     },
     "execution_count": 157,
     "metadata": {},
     "output_type": "execute_result"
    }
   ],
   "source": [
    "bb=pp[(pp['state']=='Texas') & (pp['email'].str.endswith('yahoo.com'))]\n",
    "bb.head()"
   ]
  },
  {
   "cell_type": "markdown",
   "metadata": {},
   "source": [
    "# task 23"
   ]
  },
  {
   "cell_type": "code",
   "execution_count": 165,
   "metadata": {},
   "outputs": [
    {
     "data": {
      "text/html": [
       "<div>\n",
       "<style scoped>\n",
       "    .dataframe tbody tr th:only-of-type {\n",
       "        vertical-align: middle;\n",
       "    }\n",
       "\n",
       "    .dataframe tbody tr th {\n",
       "        vertical-align: top;\n",
       "    }\n",
       "\n",
       "    .dataframe thead th {\n",
       "        text-align: right;\n",
       "    }\n",
       "</style>\n",
       "<table border=\"1\" class=\"dataframe\">\n",
       "  <thead>\n",
       "    <tr style=\"text-align: right;\">\n",
       "      <th></th>\n",
       "      <th>id</th>\n",
       "      <th>first_name</th>\n",
       "      <th>last_name</th>\n",
       "      <th>email</th>\n",
       "      <th>gender</th>\n",
       "      <th>salary</th>\n",
       "      <th>state</th>\n",
       "    </tr>\n",
       "  </thead>\n",
       "  <tbody>\n",
       "    <tr>\n",
       "      <th>7</th>\n",
       "      <td>8</td>\n",
       "      <td>Jone</td>\n",
       "      <td>Pegden</td>\n",
       "      <td>jpegden7@washington.edu</td>\n",
       "      <td>Male</td>\n",
       "      <td>327962</td>\n",
       "      <td>California</td>\n",
       "    </tr>\n",
       "    <tr>\n",
       "      <th>49</th>\n",
       "      <td>50</td>\n",
       "      <td>August</td>\n",
       "      <td>D'Ambrosi</td>\n",
       "      <td>adambrosi1d@jiathis.com</td>\n",
       "      <td>Male</td>\n",
       "      <td>741351</td>\n",
       "      <td>California</td>\n",
       "    </tr>\n",
       "    <tr>\n",
       "      <th>86</th>\n",
       "      <td>87</td>\n",
       "      <td>Emmott</td>\n",
       "      <td>Smeeton</td>\n",
       "      <td>esmeeton2e@guardian.co.uk</td>\n",
       "      <td>Male</td>\n",
       "      <td>390998</td>\n",
       "      <td>California</td>\n",
       "    </tr>\n",
       "    <tr>\n",
       "      <th>157</th>\n",
       "      <td>158</td>\n",
       "      <td>Francklyn</td>\n",
       "      <td>Eake</td>\n",
       "      <td>feake4d@imgur.com</td>\n",
       "      <td>Male</td>\n",
       "      <td>699509</td>\n",
       "      <td>California</td>\n",
       "    </tr>\n",
       "    <tr>\n",
       "      <th>204</th>\n",
       "      <td>205</td>\n",
       "      <td>Ferdy</td>\n",
       "      <td>Dumbrall</td>\n",
       "      <td>fdumbrall5o@tamu.edu</td>\n",
       "      <td>Male</td>\n",
       "      <td>865124</td>\n",
       "      <td>California</td>\n",
       "    </tr>\n",
       "    <tr>\n",
       "      <th>...</th>\n",
       "      <td>...</td>\n",
       "      <td>...</td>\n",
       "      <td>...</td>\n",
       "      <td>...</td>\n",
       "      <td>...</td>\n",
       "      <td>...</td>\n",
       "      <td>...</td>\n",
       "    </tr>\n",
       "    <tr>\n",
       "      <th>11412</th>\n",
       "      <td>11413</td>\n",
       "      <td>Anatollo</td>\n",
       "      <td>Fearon</td>\n",
       "      <td>afearonbi@fotki.com</td>\n",
       "      <td>Male</td>\n",
       "      <td>674162</td>\n",
       "      <td>California</td>\n",
       "    </tr>\n",
       "    <tr>\n",
       "      <th>11427</th>\n",
       "      <td>11428</td>\n",
       "      <td>Pepito</td>\n",
       "      <td>Asaaf</td>\n",
       "      <td>pasaafbx@seesaa.net</td>\n",
       "      <td>Male</td>\n",
       "      <td>943060</td>\n",
       "      <td>California</td>\n",
       "    </tr>\n",
       "    <tr>\n",
       "      <th>11453</th>\n",
       "      <td>11454</td>\n",
       "      <td>Tammie</td>\n",
       "      <td>Whybray</td>\n",
       "      <td>twhybraycn@un.org</td>\n",
       "      <td>Male</td>\n",
       "      <td>3888</td>\n",
       "      <td>California</td>\n",
       "    </tr>\n",
       "    <tr>\n",
       "      <th>11504</th>\n",
       "      <td>11505</td>\n",
       "      <td>Morten</td>\n",
       "      <td>Biddiss</td>\n",
       "      <td>mbiddisse2@ow.ly</td>\n",
       "      <td>Male</td>\n",
       "      <td>304470</td>\n",
       "      <td>California</td>\n",
       "    </tr>\n",
       "    <tr>\n",
       "      <th>11627</th>\n",
       "      <td>11628</td>\n",
       "      <td>Gerrard</td>\n",
       "      <td>Bridge</td>\n",
       "      <td>gbridgehh@creativecommons.org</td>\n",
       "      <td>Male</td>\n",
       "      <td>756029</td>\n",
       "      <td>California</td>\n",
       "    </tr>\n",
       "  </tbody>\n",
       "</table>\n",
       "<p>345 rows × 7 columns</p>\n",
       "</div>"
      ],
      "text/plain": [
       "          id first_name  last_name                          email gender  \\\n",
       "7          8       Jone     Pegden        jpegden7@washington.edu   Male   \n",
       "49        50     August  D'Ambrosi        adambrosi1d@jiathis.com   Male   \n",
       "86        87     Emmott    Smeeton      esmeeton2e@guardian.co.uk   Male   \n",
       "157      158  Francklyn       Eake              feake4d@imgur.com   Male   \n",
       "204      205      Ferdy   Dumbrall           fdumbrall5o@tamu.edu   Male   \n",
       "...      ...        ...        ...                            ...    ...   \n",
       "11412  11413   Anatollo     Fearon            afearonbi@fotki.com   Male   \n",
       "11427  11428     Pepito      Asaaf            pasaafbx@seesaa.net   Male   \n",
       "11453  11454     Tammie    Whybray              twhybraycn@un.org   Male   \n",
       "11504  11505     Morten    Biddiss               mbiddisse2@ow.ly   Male   \n",
       "11627  11628    Gerrard     Bridge  gbridgehh@creativecommons.org   Male   \n",
       "\n",
       "       salary       state  \n",
       "7      327962  California  \n",
       "49     741351  California  \n",
       "86     390998  California  \n",
       "157    699509  California  \n",
       "204    865124  California  \n",
       "...       ...         ...  \n",
       "11412  674162  California  \n",
       "11427  943060  California  \n",
       "11453    3888  California  \n",
       "11504  304470  California  \n",
       "11627  756029  California  \n",
       "\n",
       "[345 rows x 7 columns]"
      ]
     },
     "execution_count": 165,
     "metadata": {},
     "output_type": "execute_result"
    }
   ],
   "source": [
    "pp['salary'].mean()   #992691----this is avg salary\n",
    "pp[(pp['gender']==\"Male\") & (pp['state']=='California') & (pp['salary']<992691)]\n"
   ]
  },
  {
   "cell_type": "code",
   "execution_count": 166,
   "metadata": {},
   "outputs": [
    {
     "data": {
      "text/html": [
       "<div>\n",
       "<style scoped>\n",
       "    .dataframe tbody tr th:only-of-type {\n",
       "        vertical-align: middle;\n",
       "    }\n",
       "\n",
       "    .dataframe tbody tr th {\n",
       "        vertical-align: top;\n",
       "    }\n",
       "\n",
       "    .dataframe thead th {\n",
       "        text-align: right;\n",
       "    }\n",
       "</style>\n",
       "<table border=\"1\" class=\"dataframe\">\n",
       "  <thead>\n",
       "    <tr style=\"text-align: right;\">\n",
       "      <th></th>\n",
       "      <th>id</th>\n",
       "      <th>first_name</th>\n",
       "      <th>last_name</th>\n",
       "      <th>email</th>\n",
       "      <th>gender</th>\n",
       "      <th>salary</th>\n",
       "      <th>state</th>\n",
       "    </tr>\n",
       "  </thead>\n",
       "  <tbody>\n",
       "  </tbody>\n",
       "</table>\n",
       "</div>"
      ],
      "text/plain": [
       "Empty DataFrame\n",
       "Columns: [id, first_name, last_name, email, gender, salary, state]\n",
       "Index: []"
      ]
     },
     "execution_count": 166,
     "metadata": {},
     "output_type": "execute_result"
    }
   ],
   "source": []
  }
 ],
 "metadata": {
  "kernelspec": {
   "display_name": "Python 3",
   "language": "python",
   "name": "python3"
  },
  "language_info": {
   "codemirror_mode": {
    "name": "ipython",
    "version": 3
   },
   "file_extension": ".py",
   "mimetype": "text/x-python",
   "name": "python",
   "nbconvert_exporter": "python",
   "pygments_lexer": "ipython3",
   "version": "3.10.9"
  }
 },
 "nbformat": 4,
 "nbformat_minor": 2
}
