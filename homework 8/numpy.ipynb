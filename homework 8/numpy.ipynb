{
 "cells": [
  {
   "cell_type": "markdown",
   "metadata": {},
   "source": [
    "# exercise 1"
   ]
  },
  {
   "cell_type": "code",
   "execution_count": 4,
   "metadata": {},
   "outputs": [],
   "source": [
    "import numpy as np"
   ]
  },
  {
   "cell_type": "code",
   "execution_count": 11,
   "metadata": {},
   "outputs": [
    {
     "name": "stdout",
     "output_type": "stream",
     "text": [
      "[0. 0. 0. 0. 1. 0. 0. 0. 0. 0.]\n"
     ]
    }
   ],
   "source": [
    "err=np.zeros(10)\n",
    "err[4]=1\n",
    "print(err)"
   ]
  },
  {
   "cell_type": "code",
   "execution_count": 12,
   "metadata": {},
   "outputs": [
    {
     "name": "stdout",
     "output_type": "stream",
     "text": [
      "ex2\n"
     ]
    },
    {
     "data": {
      "text/plain": [
       "array([10, 11, 12, 13, 14, 15, 16, 17, 18, 19, 20, 21, 22, 23, 24, 25, 26,\n",
       "       27, 28, 29, 30, 31, 32, 33, 34, 35, 36, 37, 38, 39, 40, 41, 42, 43,\n",
       "       44, 45, 46, 47, 48])"
      ]
     },
     "execution_count": 12,
     "metadata": {},
     "output_type": "execute_result"
    }
   ],
   "source": [
    "print('ex2')\n",
    "err=np.arange(10,49)\n",
    "err"
   ]
  },
  {
   "cell_type": "code",
   "execution_count": 18,
   "metadata": {},
   "outputs": [
    {
     "name": "stdout",
     "output_type": "stream",
     "text": [
      "ex3\n"
     ]
    },
    {
     "data": {
      "text/plain": [
       "array([49, 48, 47, 46, 45, 44, 43, 42, 41, 40, 39, 38, 37, 36, 35, 34, 33,\n",
       "       32, 31, 30, 29, 28, 27, 26, 25, 24, 23, 22, 21, 20, 19, 18, 17, 16,\n",
       "       15, 14, 13, 12, 11, 10])"
      ]
     },
     "execution_count": 18,
     "metadata": {},
     "output_type": "execute_result"
    }
   ],
   "source": [
    "print('ex3')\n",
    "err=np.arange(49,9,-1)\n",
    "err\n"
   ]
  },
  {
   "cell_type": "code",
   "execution_count": 22,
   "metadata": {},
   "outputs": [
    {
     "name": "stdout",
     "output_type": "stream",
     "text": [
      "ex4\n"
     ]
    },
    {
     "data": {
      "text/plain": [
       "array([[0, 1, 2],\n",
       "       [3, 4, 5],\n",
       "       [6, 7, 8]])"
      ]
     },
     "execution_count": 22,
     "metadata": {},
     "output_type": "execute_result"
    }
   ],
   "source": [
    "print('ex4')\n",
    "err=np.arange(9).reshape(3,3)\n",
    "err\n"
   ]
  },
  {
   "cell_type": "code",
   "execution_count": 23,
   "metadata": {},
   "outputs": [
    {
     "name": "stdout",
     "output_type": "stream",
     "text": [
      "ex5\n",
      "(array([0, 1, 4]),)\n"
     ]
    }
   ],
   "source": [
    "print('ex5')\n",
    "err=np.array([1,2,0,0,4,0])\n",
    "nn=np.nonzero(err)\n",
    "print(nn)\n"
   ]
  },
  {
   "cell_type": "code",
   "execution_count": 25,
   "metadata": {},
   "outputs": [
    {
     "name": "stdout",
     "output_type": "stream",
     "text": [
      "ex6\n"
     ]
    },
    {
     "data": {
      "text/plain": [
       "array([[1., 0., 0.],\n",
       "       [0., 1., 0.],\n",
       "       [0., 0., 1.]])"
      ]
     },
     "execution_count": 25,
     "metadata": {},
     "output_type": "execute_result"
    }
   ],
   "source": [
    "print('ex6')\n",
    "err=np.eye(3)\n",
    "err"
   ]
  },
  {
   "cell_type": "code",
   "execution_count": 30,
   "metadata": {},
   "outputs": [
    {
     "name": "stdout",
     "output_type": "stream",
     "text": [
      "ex7\n",
      "[[0.62397848 0.12197093 0.15797614]\n",
      " [0.59579004 0.0296952  0.43658005]\n",
      " [0.22670585 0.73925046 0.05709339]]\n",
      "min:0.02969520144721627\n",
      "max:0.7392504553800701\n"
     ]
    }
   ],
   "source": [
    "print('ex7')\n",
    "err=np.random.rand(3,3)\n",
    "minn=np.min(err)\n",
    "maxx=np.max(err)\n",
    "print(err)\n",
    "print(f'min:{minn}')\n",
    "print(f'max:{maxx}')\n"
   ]
  },
  {
   "cell_type": "code",
   "execution_count": 31,
   "metadata": {},
   "outputs": [
    {
     "name": "stdout",
     "output_type": "stream",
     "text": [
      "ex8\n",
      "[[0.82021414 0.55711069 0.61360109 0.07991351 0.35565645]\n",
      " [0.42475381 0.18432699 0.40877756 0.39200172 0.24824463]\n",
      " [0.00832002 0.60494415 0.6972536  0.97541548 0.54919624]\n",
      " [0.86758044 0.39252229 0.82990163 0.89103124 0.40123167]\n",
      " [0.89609233 0.4674008  0.35800948 0.62873596 0.81843397]]\n",
      "min:0.00832002490871886\n",
      "max:0.9754154848866814\n"
     ]
    }
   ],
   "source": [
    "print('ex8')\n",
    "err=np.random.rand(5,5)\n",
    "minn=np.min(err)\n",
    "maxx=np.max(err)\n",
    "print(err)\n",
    "print(f'min:{minn}')\n",
    "print(f'max:{maxx}')"
   ]
  },
  {
   "cell_type": "code",
   "execution_count": 32,
   "metadata": {},
   "outputs": [
    {
     "name": "stdout",
     "output_type": "stream",
     "text": [
      "ex9\n",
      "the closest value to 14 is 15\n"
     ]
    }
   ],
   "source": [
    "print('ex9')\n",
    "array=np.array([1,3,5,11,15,20,25])\n",
    "target=14\n",
    "index=np.argmin(np.abs(array-target))\n",
    "bb=array[index]\n",
    "print(f'the closest value to {target} is {bb}')"
   ]
  },
  {
   "cell_type": "code",
   "execution_count": 36,
   "metadata": {},
   "outputs": [
    {
     "name": "stdout",
     "output_type": "stream",
     "text": [
      "ex10\n",
      "array after replacing the maximum element in each row with 0: \n",
      "[[ 5  0  3]\n",
      " [10  2  0]\n",
      " [ 6  7  0]]\n"
     ]
    }
   ],
   "source": [
    "print('ex10')\n",
    "array=np.array([[5,9,3],[10,2,15],[6,7,8]])\n",
    "maxx=np.argmax(array,axis=1)\n",
    "array[np.arange(array.shape[0]),maxx]=0\n",
    "print('array after replacing the maximum element in each row with 0: ')\n",
    "print(array)"
   ]
  },
  {
   "cell_type": "code",
   "execution_count": null,
   "metadata": {},
   "outputs": [],
   "source": [
    "print('ex11')\n",
    "array=np.array([2,3,2,5,8,3,3,7,2,3,5,5,5,5])\n",
    "values,counts=np.unique(array,return_counts=True)\n",
    "most=values[np.argmax(counts)]\n",
    "print(f'the most common value:{most}')"
   ]
  },
  {
   "cell_type": "code",
   "execution_count": 37,
   "metadata": {},
   "outputs": [
    {
     "name": "stdout",
     "output_type": "stream",
     "text": [
      "ex12\n",
      "[[ 14  32  50]\n",
      " [ 32  77 122]\n",
      " [ 50 122 194]]\n"
     ]
    }
   ],
   "source": [
    "print('ex12')\n",
    "array = np.array([[1, 2, 3], [4, 5, 6], [7, 8, 9]])\n",
    "res=np.dot(array,array.T)\n",
    "res=array@array.T\n",
    "print(res)"
   ]
  },
  {
   "cell_type": "code",
   "execution_count": 39,
   "metadata": {},
   "outputs": [
    {
     "name": "stdout",
     "output_type": "stream",
     "text": [
      "ex13\n",
      "determinant of the matrix is -306.0\n"
     ]
    }
   ],
   "source": [
    "print('ex13')\n",
    "matrix = np.array([[6, 1, 1], [4, -2, 5], [2, 8, 7]])\n",
    "deter=np.linalg.det(matrix)\n",
    "print(f'determinant of the matrix is {deter}')"
   ]
  },
  {
   "cell_type": "code",
   "execution_count": 40,
   "metadata": {},
   "outputs": [
    {
     "name": "stdout",
     "output_type": "stream",
     "text": [
      "ex14\n",
      "Inverse of the matrix:\n",
      "[[-24.  18.   5.]\n",
      " [ 20. -15.  -4.]\n",
      " [ -5.   4.   1.]]\n"
     ]
    }
   ],
   "source": [
    "print('ex14')\n",
    "matrix = np.array([[1, 2, 3], [0, 1, 4], [5, 6, 0]])\n",
    "det = np.linalg.det(matrix)\n",
    "if det != 0:\n",
    "    matrix_inverse = np.linalg.inv(matrix)\n",
    "    print(\"Inverse of the matrix:\")\n",
    "    print(matrix_inverse)\n",
    "else:\n",
    "    print(\"The matrix is singular and does not have an inverse.\")\n"
   ]
  }
 ],
 "metadata": {
  "kernelspec": {
   "display_name": "Python 3",
   "language": "python",
   "name": "python3"
  },
  "language_info": {
   "codemirror_mode": {
    "name": "ipython",
    "version": 3
   },
   "file_extension": ".py",
   "mimetype": "text/x-python",
   "name": "python",
   "nbconvert_exporter": "python",
   "pygments_lexer": "ipython3",
   "version": "3.10.9"
  }
 },
 "nbformat": 4,
 "nbformat_minor": 2
}
